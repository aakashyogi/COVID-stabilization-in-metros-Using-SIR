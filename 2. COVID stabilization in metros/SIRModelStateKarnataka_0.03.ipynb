{
 "cells": [
  {
   "cell_type": "markdown",
   "metadata": {},
   "source": [
    "# The SIR epidemic model"
   ]
  },
  {
   "cell_type": "markdown",
   "metadata": {},
   "source": [
    "A simple mathematical description of the spread of a disease in a population is the so-called SIR model, which divides the (fixed) population of N individuals into three \"compartments\" which may vary as a function of time, t:\n",
    "\n",
    "S(t) are those susceptible but not yet infected with the disease;\n",
    "I(t) is the number of infectious individuals;\n",
    "R(t) are those individuals who have recovered from the disease and now have immunity to it.\n",
    "The SIR model describes the change in the population of each of these compartments in terms of two parameters, β and γ. β describes the effective contact rate of the disease: an infected individual comes into contact with βN other individuals per unit time (of which the fraction that are susceptible to contracting the disease is S/N). γ is the mean recovery rate: that is, 1/γ is the mean period of time during which an infected individual can pass it on.\n",
    "\n",
    "The differential equations describing this model were first derived by Kermack and McKendrick "
   ]
  },
  {
   "cell_type": "markdown",
   "metadata": {},
   "source": [
    "N is the total number of population\n",
    "dS/dt =  -beta * S * I / N\n",
    "dI/dt = beta * S * I/N - gamma * I\n",
    "dR/dt = gamma * I\n",
    "\n"
   ]
  },
  {
   "cell_type": "markdown",
   "metadata": {},
   "source": [
    "Case 1 :\n",
    "Effective contact rate beta  is transmission rate * contact rate.\n",
    "For an example, 10% transmission rate and 5 contacts a day is 0.1 * 5 = 0.50\n",
    "Rate of recovery gamma is 1 / 16 no of days person is contagious which is 0.0625\n",
    "R0 = beta / gamma\n",
    "R0 = 0.50/ 0.0625\n",
    "R0  = 8 which is very large.\n",
    "When R0 is less than 1 then the curve flattens.\n"
   ]
  },
  {
   "cell_type": "markdown",
   "metadata": {},
   "source": [
    "Let's do different plotting for Telagana . with different contract and recovery rate"
   ]
  },
  {
   "cell_type": "code",
   "execution_count": 32,
   "metadata": {},
   "outputs": [],
   "source": [
    "import pandas as pd\n",
    "import numpy as np\n",
    "from scipy.integrate import odeint\n",
    "import matplotlib.pyplot as plt"
   ]
  },
  {
   "cell_type": "code",
   "execution_count": 33,
   "metadata": {},
   "outputs": [],
   "source": [
    "import warnings\n",
    "warnings.filterwarnings(\"ignore\")\n",
    "pd.set_option('display.max_rows', 999)\n",
    "pd.set_option('display.max_columns', 500)  \n",
    "pd.set_option('display.expand_frame_repr', False)\n",
    "pd.set_option('max_colwidth', -1)"
   ]
  },
  {
   "cell_type": "code",
   "execution_count": 34,
   "metadata": {},
   "outputs": [],
   "source": [
    "statedf = pd.read_excel('Covid_Data_11.Jul.2020C.xlsx', 'KA')"
   ]
  },
  {
   "cell_type": "code",
   "execution_count": 35,
   "metadata": {},
   "outputs": [
    {
     "data": {
      "text/html": [
       "<div>\n",
       "<style scoped>\n",
       "    .dataframe tbody tr th:only-of-type {\n",
       "        vertical-align: middle;\n",
       "    }\n",
       "\n",
       "    .dataframe tbody tr th {\n",
       "        vertical-align: top;\n",
       "    }\n",
       "\n",
       "    .dataframe thead th {\n",
       "        text-align: right;\n",
       "    }\n",
       "</style>\n",
       "<table border=\"1\" class=\"dataframe\">\n",
       "  <thead>\n",
       "    <tr style=\"text-align: right;\">\n",
       "      <th></th>\n",
       "      <th>Row Labels</th>\n",
       "      <th>Confirmed</th>\n",
       "      <th>Deceased</th>\n",
       "      <th>Recovered</th>\n",
       "    </tr>\n",
       "  </thead>\n",
       "  <tbody>\n",
       "    <tr>\n",
       "      <th>0</th>\n",
       "      <td>14-Mar</td>\n",
       "      <td>6</td>\n",
       "      <td>1</td>\n",
       "      <td>0</td>\n",
       "    </tr>\n",
       "    <tr>\n",
       "      <th>1</th>\n",
       "      <td>15-Mar</td>\n",
       "      <td>0</td>\n",
       "      <td>0</td>\n",
       "      <td>0</td>\n",
       "    </tr>\n",
       "    <tr>\n",
       "      <th>2</th>\n",
       "      <td>16-Mar</td>\n",
       "      <td>1</td>\n",
       "      <td>0</td>\n",
       "      <td>0</td>\n",
       "    </tr>\n",
       "    <tr>\n",
       "      <th>3</th>\n",
       "      <td>17-Mar</td>\n",
       "      <td>2</td>\n",
       "      <td>0</td>\n",
       "      <td>0</td>\n",
       "    </tr>\n",
       "    <tr>\n",
       "      <th>4</th>\n",
       "      <td>18-Mar</td>\n",
       "      <td>5</td>\n",
       "      <td>0</td>\n",
       "      <td>0</td>\n",
       "    </tr>\n",
       "  </tbody>\n",
       "</table>\n",
       "</div>"
      ],
      "text/plain": [
       "  Row Labels  Confirmed  Deceased  Recovered\n",
       "0  14-Mar     6          1         0        \n",
       "1  15-Mar     0          0         0        \n",
       "2  16-Mar     1          0         0        \n",
       "3  17-Mar     2          0         0        \n",
       "4  18-Mar     5          0         0        "
      ]
     },
     "execution_count": 35,
     "metadata": {},
     "output_type": "execute_result"
    }
   ],
   "source": [
    "statedf.head()"
   ]
  },
  {
   "cell_type": "code",
   "execution_count": 36,
   "metadata": {},
   "outputs": [],
   "source": [
    "statedf['Removed'] = statedf['Deceased'] + statedf['Recovered']\n",
    "statedf.drop(['Deceased', 'Recovered'], axis=1, inplace=True)"
   ]
  },
  {
   "cell_type": "code",
   "execution_count": 37,
   "metadata": {},
   "outputs": [
    {
     "data": {
      "text/plain": [
       "120"
      ]
     },
     "execution_count": 37,
     "metadata": {},
     "output_type": "execute_result"
    }
   ],
   "source": [
    "Inf = np.array(statedf['Confirmed'])\n",
    "len(Inf)"
   ]
  },
  {
   "cell_type": "code",
   "execution_count": 38,
   "metadata": {},
   "outputs": [
    {
     "data": {
      "text/plain": [
       "120"
      ]
     },
     "execution_count": 38,
     "metadata": {},
     "output_type": "execute_result"
    }
   ],
   "source": [
    "Rec = np.array(statedf['Removed'])\n",
    "len(Rec)"
   ]
  },
  {
   "cell_type": "markdown",
   "metadata": {},
   "source": [
    "Plotting Actual data"
   ]
  },
  {
   "cell_type": "code",
   "execution_count": 39,
   "metadata": {},
   "outputs": [
    {
     "data": {
      "image/png": "[encoded data removed]",
      "text/plain": [
       "<Figure size 864x360 with 1 Axes>"
      ]
     },
     "metadata": {},
     "output_type": "display_data"
    }
   ],
   "source": [
    "t = np.linspace(0, 120, 120)\n",
    "fig = plt.figure(facecolor='w')\n",
    "ax = fig.add_subplot(111, facecolor='#dddddd', axisbelow=True)\n",
    "\n",
    "ax.plot(t, Inf, 'r', label='Infected')\n",
    "ax.plot(t, Rec, 'g', label='recovered')\n",
    "#ax.plot(t, D, 'k', label='deceased')\n",
    "\n",
    "ax.set_xlabel('Time /days')\n",
    "ax.set_ylabel('total number of population')\n",
    "\n",
    "ax.yaxis.set_tick_params(length=0)\n",
    "ax.xaxis.set_tick_params(length=0)\n",
    "ax.grid(b=True, which='major', c='w', lw=2, ls='-')\n",
    "legend = ax.legend()\n",
    "legend.get_frame().set_alpha(0.5)\n",
    "for spine in ('top', 'right', 'bottom', 'left'):\n",
    "    ax.spines[spine].set_visible(False)\n",
    "plt.show()"
   ]
  },
  {
   "cell_type": "markdown",
   "metadata": {},
   "source": [
    "Loading the coronavirus india data"
   ]
  },
  {
   "cell_type": "code",
   "execution_count": 40,
   "metadata": {},
   "outputs": [],
   "source": [
    "# The SIR model differential equations.\n",
    "def deriv(state, t, N, beta, gamma):\n",
    "    S, I, R = state\n",
    "    # Change in S population over time\n",
    "    dSdt = -beta * S * I\n",
    "    # Change in I population over time\n",
    "    dIdt = beta * S * I  - gamma * I\n",
    "    # Change in R population over time\n",
    "    dRdt = gamma * I\n",
    "    return dSdt, dIdt, dRdt "
   ]
  },
  {
   "cell_type": "code",
   "execution_count": 41,
   "metadata": {},
   "outputs": [],
   "source": [
    "Infected =[]\n",
    "Recovered = []\n",
    "daily_totalInf = 0\n",
    "daily_totalRec = 0\n",
    "\n",
    "for valinf in Inf:\n",
    "    daily_totalInf = valinf + daily_totalInf\n",
    "    Infected.append(daily_totalInf)\n",
    "for valrec in Rec:\n",
    "    daily_totalRec = valrec + daily_totalRec \n",
    "    Recovered.append(daily_totalRec)"
   ]
  },
  {
   "cell_type": "code",
   "execution_count": 42,
   "metadata": {},
   "outputs": [],
   "source": [
    "Recovered = np.array(Recovered)\n",
    "Infected = np.array(Infected)"
   ]
  },
  {
   "cell_type": "code",
   "execution_count": 43,
   "metadata": {},
   "outputs": [
    {
     "data": {
      "image/png": "[encoded data removed]",
      "text/plain": [
       "<Figure size 864x360 with 1 Axes>"
      ]
     },
     "metadata": {},
     "output_type": "display_data"
    }
   ],
   "source": [
    "t = np.linspace(0, 120, 120)\n",
    "fig = plt.figure(facecolor='w')\n",
    "ax = fig.add_subplot(111, facecolor='#dddddd', axisbelow=True)\n",
    "\n",
    "ax.plot(t, Infected, 'r', label='Infected')\n",
    "ax.plot(t, Recovered, 'g', label='recovered')\n",
    "#ax.plot(t, D, 'k', label='deceased')\n",
    "\n",
    "ax.set_xlabel('Time /days')\n",
    "ax.set_ylabel('total number of population')\n",
    "\n",
    "ax.yaxis.set_tick_params(length=0)\n",
    "ax.xaxis.set_tick_params(length=0)\n",
    "ax.grid(b=True, which='major', c='w', lw=2, ls='-')\n",
    "legend = ax.legend()\n",
    "legend.get_frame().set_alpha(0.5)\n",
    "for spine in ('top', 'right', 'bottom', 'left'):\n",
    "    ax.spines[spine].set_visible(False)\n",
    "plt.show()"
   ]
  },
  {
   "cell_type": "code",
   "execution_count": 44,
   "metadata": {},
   "outputs": [
    {
     "data": {
      "text/plain": [
       "120"
      ]
     },
     "execution_count": 44,
     "metadata": {},
     "output_type": "execute_result"
    }
   ],
   "source": [
    "len(Recovered)"
   ]
  },
  {
   "cell_type": "code",
   "execution_count": 45,
   "metadata": {},
   "outputs": [
    {
     "data": {
      "text/plain": [
       "120"
      ]
     },
     "execution_count": 45,
     "metadata": {},
     "output_type": "execute_result"
    }
   ],
   "source": [
    "len(Infected)"
   ]
  },
  {
   "cell_type": "code",
   "execution_count": 46,
   "metadata": {},
   "outputs": [],
   "source": [
    "#Bangalore calculation- Taken 49.88% of the total cases based on the actual data till date"
   ]
  },
  {
   "cell_type": "code",
   "execution_count": 47,
   "metadata": {},
   "outputs": [],
   "source": [
    "population_affected_in_city = 0.4988\n",
    "Infected_City = Infected*population_affected_in_city\n",
    "Recovered_City = Recovered*population_affected_in_city\n",
    "starting_day_for_0 = 60\n",
    "Recovered_act_city = Recovered*population_affected_in_city\n",
    "Infected_act_city = Infected*population_affected_in_city\n",
    "Recovered_act_mse = Recovered[starting_day_for_0:]*population_affected_in_city\n",
    "Infected_act_mse = Infected[starting_day_for_0:]*population_affected_in_city"
   ]
  },
  {
   "cell_type": "code",
   "execution_count": 48,
   "metadata": {},
   "outputs": [
    {
     "data": {
      "text/plain": [
       "120"
      ]
     },
     "execution_count": 48,
     "metadata": {},
     "output_type": "execute_result"
    }
   ],
   "source": [
    "#considering 5% of population. Total population for Chennai City is 10971108\n",
    "total_pop = 12327000 * 0.03\n",
    "Susceptible_City = total_pop - Infected_City - Recovered_City\n",
    "len(Susceptible_City )"
   ]
  },
  {
   "cell_type": "code",
   "execution_count": 49,
   "metadata": {},
   "outputs": [],
   "source": [
    "# Everyone not infected or recovered is susceptible\n",
    "s= []\n",
    "inf = []\n",
    "r = []\n",
    "dt = 1\n",
    "beta = []\n",
    "gamma =[]\n",
    "\n",
    "count =0\n",
    "\n",
    "for i in np.arange(0,119,1):\n",
    "    beta.append((Susceptible_City[i]-Susceptible_City[i+1])/(Susceptible_City[i]*Infected_City[i]*dt))\n",
    "    \n",
    "for i in np.arange(0,119,1):\n",
    "    gamma.append((Recovered_City[i+1]-Recovered_City[i])/(Infected_City[i]*dt))"
   ]
  },
  {
   "cell_type": "code",
   "execution_count": 50,
   "metadata": {},
   "outputs": [
    {
     "data": {
      "image/png": "[encoded data removed]",
      "text/plain": [
       "<Figure size 864x360 with 2 Axes>"
      ]
     },
     "metadata": {
      "needs_background": "light"
     },
     "output_type": "display_data"
    }
   ],
   "source": [
    "t = np.arange(0, 119, 1)\n",
    "data1 = beta\n",
    "data2 = gamma\n",
    "\n",
    "fig, ax1 = plt.subplots()\n",
    "\n",
    "color = 'tab:red'\n",
    "ax1.set_xlabel('day (s)')\n",
    "ax1.set_ylabel('beta', color=color)\n",
    "ax1.plot(t, data1, color=color)\n",
    "ax1.tick_params(axis='y', labelcolor=color)\n",
    "\n",
    "ax2 = ax1.twinx()  # instantiate a second axes that shares the same x-axis\n",
    "\n",
    "color = 'tab:green'\n",
    "ax2.set_ylabel('gamma', color=color)  # we already handled the x-label with ax1\n",
    "ax2.plot(t, data2, color=color)\n",
    "ax2.tick_params(axis='y', labelcolor=color)\n",
    "ax1.set_title('Beta-Gamma curve')\n",
    "fig.tight_layout()  # otherwise the right y-label is slightly clipped\n",
    "plt.show()"
   ]
  },
  {
   "cell_type": "code",
   "execution_count": 51,
   "metadata": {},
   "outputs": [
    {
     "data": {
      "text/html": [
       "<div>\n",
       "<style scoped>\n",
       "    .dataframe tbody tr th:only-of-type {\n",
       "        vertical-align: middle;\n",
       "    }\n",
       "\n",
       "    .dataframe tbody tr th {\n",
       "        vertical-align: top;\n",
       "    }\n",
       "\n",
       "    .dataframe thead th {\n",
       "        text-align: right;\n",
       "    }\n",
       "</style>\n",
       "<table border=\"1\" class=\"dataframe\">\n",
       "  <thead>\n",
       "    <tr style=\"text-align: right;\">\n",
       "      <th></th>\n",
       "      <th>0</th>\n",
       "    </tr>\n",
       "  </thead>\n",
       "  <tbody>\n",
       "    <tr>\n",
       "      <th>count</th>\n",
       "      <td>9.900000e+01</td>\n",
       "    </tr>\n",
       "    <tr>\n",
       "      <th>mean</th>\n",
       "      <td>2.368277e-07</td>\n",
       "    </tr>\n",
       "    <tr>\n",
       "      <th>std</th>\n",
       "      <td>8.675481e-08</td>\n",
       "    </tr>\n",
       "    <tr>\n",
       "      <th>min</th>\n",
       "      <td>5.749906e-08</td>\n",
       "    </tr>\n",
       "    <tr>\n",
       "      <th>25%</th>\n",
       "      <td>1.705584e-07</td>\n",
       "    </tr>\n",
       "    <tr>\n",
       "      <th>50%</th>\n",
       "      <td>2.227951e-07</td>\n",
       "    </tr>\n",
       "    <tr>\n",
       "      <th>75%</th>\n",
       "      <td>3.092589e-07</td>\n",
       "    </tr>\n",
       "    <tr>\n",
       "      <th>max</th>\n",
       "      <td>4.856711e-07</td>\n",
       "    </tr>\n",
       "  </tbody>\n",
       "</table>\n",
       "</div>"
      ],
      "text/plain": [
       "                  0\n",
       "count  9.900000e+01\n",
       "mean   2.368277e-07\n",
       "std    8.675481e-08\n",
       "min    5.749906e-08\n",
       "25%    1.705584e-07\n",
       "50%    2.227951e-07\n",
       "75%    3.092589e-07\n",
       "max    4.856711e-07"
      ]
     },
     "execution_count": 51,
     "metadata": {},
     "output_type": "execute_result"
    }
   ],
   "source": [
    "pd.DataFrame(beta[20:]).describe()"
   ]
  },
  {
   "cell_type": "code",
   "execution_count": 52,
   "metadata": {},
   "outputs": [
    {
     "data": {
      "text/html": [
       "<div>\n",
       "<style scoped>\n",
       "    .dataframe tbody tr th:only-of-type {\n",
       "        vertical-align: middle;\n",
       "    }\n",
       "\n",
       "    .dataframe tbody tr th {\n",
       "        vertical-align: top;\n",
       "    }\n",
       "\n",
       "    .dataframe thead th {\n",
       "        text-align: right;\n",
       "    }\n",
       "</style>\n",
       "<table border=\"1\" class=\"dataframe\">\n",
       "  <thead>\n",
       "    <tr style=\"text-align: right;\">\n",
       "      <th></th>\n",
       "      <th>0</th>\n",
       "    </tr>\n",
       "  </thead>\n",
       "  <tbody>\n",
       "    <tr>\n",
       "      <th>count</th>\n",
       "      <td>99.000000</td>\n",
       "    </tr>\n",
       "    <tr>\n",
       "      <th>mean</th>\n",
       "      <td>0.027425</td>\n",
       "    </tr>\n",
       "    <tr>\n",
       "      <th>std</th>\n",
       "      <td>0.015361</td>\n",
       "    </tr>\n",
       "    <tr>\n",
       "      <th>min</th>\n",
       "      <td>0.000000</td>\n",
       "    </tr>\n",
       "    <tr>\n",
       "      <th>25%</th>\n",
       "      <td>0.017700</td>\n",
       "    </tr>\n",
       "    <tr>\n",
       "      <th>50%</th>\n",
       "      <td>0.024308</td>\n",
       "    </tr>\n",
       "    <tr>\n",
       "      <th>75%</th>\n",
       "      <td>0.034127</td>\n",
       "    </tr>\n",
       "    <tr>\n",
       "      <th>max</th>\n",
       "      <td>0.076318</td>\n",
       "    </tr>\n",
       "  </tbody>\n",
       "</table>\n",
       "</div>"
      ],
      "text/plain": [
       "               0\n",
       "count  99.000000\n",
       "mean   0.027425 \n",
       "std    0.015361 \n",
       "min    0.000000 \n",
       "25%    0.017700 \n",
       "50%    0.024308 \n",
       "75%    0.034127 \n",
       "max    0.076318 "
      ]
     },
     "execution_count": 52,
     "metadata": {},
     "output_type": "execute_result"
    }
   ],
   "source": [
    "pd.DataFrame(gamma[20:]).describe()"
   ]
  },
  {
   "cell_type": "code",
   "execution_count": 53,
   "metadata": {},
   "outputs": [],
   "source": [
    "beta_25 = pd.DataFrame(beta[20:]).describe().T['25%'][0]\n",
    "beta_75 = pd.DataFrame(beta[20:]).describe().T['75%'][0]\n",
    "gamma_25 = pd.DataFrame(gamma[20:]).describe().T['25%'][0]\n",
    "gamma_75 = pd.DataFrame(gamma[20:]).describe().T['75%'][0]"
   ]
  },
  {
   "cell_type": "code",
   "execution_count": 54,
   "metadata": {},
   "outputs": [],
   "source": [
    "dfpredicted = pd.DataFrame(columns = ['S','I','R','beta','gamma'])\n",
    "total_days = 600\n",
    "days = range(0, total_days)\n",
    "sus = []\n",
    "inf = []\n",
    "rec = []\n",
    "\n",
    "for k in np.linspace(beta_25, beta_75, 30):\n",
    "    for z in np.linspace(gamma_25, gamma_75, 30):\n",
    "        ret = odeint(deriv,\n",
    "             [Susceptible_City[starting_day_for_0], Infected_City[starting_day_for_0], Recovered_City[starting_day_for_0]],\n",
    "             days,\n",
    "             args=(total_pop, k, z))\n",
    "\n",
    "        dftemp = pd.DataFrame(ret,columns = ['S','I','R'])\n",
    "        dftemp['beta'] = k\n",
    "        dftemp['gamma'] = z\n",
    "        dfpredicted = pd.concat([dfpredicted, dftemp])"
   ]
  },
  {
   "cell_type": "code",
   "execution_count": 55,
   "metadata": {},
   "outputs": [],
   "source": [
    "from sklearn.metrics import mean_squared_error\n",
    "mserec=[]\n",
    "mseinf = [] \n",
    "betanew = []\n",
    "gammanew = []\n",
    "count_recs = len(Infected_act_mse)\n",
    "for t in np.arange(0,dfpredicted.shape[0],total_days):\n",
    "    Recovered_pred = np.array(dfpredicted.iloc[t:t+total_days]['R'][0:count_recs])\n",
    "    Infected_pred = np.array(dfpredicted.iloc[t:t+total_days]['I'][0:count_recs])\n",
    "    betanew.append(dfpredicted.iloc[t:t+total_days]['beta'][0:1].to_numpy()[0])\n",
    "    gammanew.append(dfpredicted.iloc[t:t+total_days]['gamma'][0:1].to_numpy()[0])\n",
    "    mserec.append(mean_squared_error(Recovered_act_mse, Recovered_pred))\n",
    "    mseinf.append(mean_squared_error(Infected_act_mse, Infected_pred))"
   ]
  },
  {
   "cell_type": "code",
   "execution_count": 56,
   "metadata": {},
   "outputs": [],
   "source": [
    "msedf = pd.DataFrame(columns = ['MSEI','MSER','beta','gamma'])\n",
    "msedf['MSEI'] =mseinf\n",
    "msedf['MSER'] =mserec\n",
    "msedf['beta'] = betanew\n",
    "msedf['gamma'] =gammanew"
   ]
  },
  {
   "cell_type": "code",
   "execution_count": 57,
   "metadata": {},
   "outputs": [
    {
     "data": {
      "text/html": [
       "<div>\n",
       "<style scoped>\n",
       "    .dataframe tbody tr th:only-of-type {\n",
       "        vertical-align: middle;\n",
       "    }\n",
       "\n",
       "    .dataframe tbody tr th {\n",
       "        vertical-align: top;\n",
       "    }\n",
       "\n",
       "    .dataframe thead th {\n",
       "        text-align: right;\n",
       "    }\n",
       "</style>\n",
       "<table border=\"1\" class=\"dataframe\">\n",
       "  <thead>\n",
       "    <tr style=\"text-align: right;\">\n",
       "      <th></th>\n",
       "      <th>MSEI</th>\n",
       "      <th>MSER</th>\n",
       "      <th>beta</th>\n",
       "      <th>gamma</th>\n",
       "    </tr>\n",
       "  </thead>\n",
       "  <tbody>\n",
       "    <tr>\n",
       "      <th>count</th>\n",
       "      <td>9.000000e+02</td>\n",
       "      <td>9.000000e+02</td>\n",
       "      <td>9.000000e+02</td>\n",
       "      <td>900.000000</td>\n",
       "    </tr>\n",
       "    <tr>\n",
       "      <th>mean</th>\n",
       "      <td>5.097609e+07</td>\n",
       "      <td>3.447424e+06</td>\n",
       "      <td>2.399086e-07</td>\n",
       "      <td>0.025913</td>\n",
       "    </tr>\n",
       "    <tr>\n",
       "      <th>std</th>\n",
       "      <td>9.640108e+07</td>\n",
       "      <td>4.720911e+06</td>\n",
       "      <td>4.142006e-08</td>\n",
       "      <td>0.004906</td>\n",
       "    </tr>\n",
       "    <tr>\n",
       "      <th>min</th>\n",
       "      <td>3.554509e+05</td>\n",
       "      <td>4.826543e+04</td>\n",
       "      <td>1.705584e-07</td>\n",
       "      <td>0.017700</td>\n",
       "    </tr>\n",
       "    <tr>\n",
       "      <th>25%</th>\n",
       "      <td>4.242963e+06</td>\n",
       "      <td>5.809255e+05</td>\n",
       "      <td>2.040378e-07</td>\n",
       "      <td>0.021665</td>\n",
       "    </tr>\n",
       "    <tr>\n",
       "      <th>50%</th>\n",
       "      <td>1.348499e+07</td>\n",
       "      <td>1.684655e+06</td>\n",
       "      <td>2.399086e-07</td>\n",
       "      <td>0.025913</td>\n",
       "    </tr>\n",
       "    <tr>\n",
       "      <th>75%</th>\n",
       "      <td>4.142316e+07</td>\n",
       "      <td>3.178848e+06</td>\n",
       "      <td>2.757795e-07</td>\n",
       "      <td>0.030162</td>\n",
       "    </tr>\n",
       "    <tr>\n",
       "      <th>max</th>\n",
       "      <td>6.811452e+08</td>\n",
       "      <td>2.043608e+07</td>\n",
       "      <td>3.092589e-07</td>\n",
       "      <td>0.034127</td>\n",
       "    </tr>\n",
       "  </tbody>\n",
       "</table>\n",
       "</div>"
      ],
      "text/plain": [
       "               MSEI          MSER          beta       gamma\n",
       "count  9.000000e+02  9.000000e+02  9.000000e+02  900.000000\n",
       "mean   5.097609e+07  3.447424e+06  2.399086e-07  0.025913  \n",
       "std    9.640108e+07  4.720911e+06  4.142006e-08  0.004906  \n",
       "min    3.554509e+05  4.826543e+04  1.705584e-07  0.017700  \n",
       "25%    4.242963e+06  5.809255e+05  2.040378e-07  0.021665  \n",
       "50%    1.348499e+07  1.684655e+06  2.399086e-07  0.025913  \n",
       "75%    4.142316e+07  3.178848e+06  2.757795e-07  0.030162  \n",
       "max    6.811452e+08  2.043608e+07  3.092589e-07  0.034127  "
      ]
     },
     "execution_count": 57,
     "metadata": {},
     "output_type": "execute_result"
    }
   ],
   "source": [
    "msedf.describe()"
   ]
  },
  {
   "cell_type": "code",
   "execution_count": 58,
   "metadata": {},
   "outputs": [
    {
     "data": {
      "text/plain": [
       "<matplotlib.axes._subplots.AxesSubplot at 0x1a164eda388>"
      ]
     },
     "execution_count": 58,
     "metadata": {},
     "output_type": "execute_result"
    },
    {
     "data": {
      "image/png": "[encoded data removed]",
      "text/plain": [
       "<Figure size 864x360 with 1 Axes>"
      ]
     },
     "metadata": {
      "needs_background": "light"
     },
     "output_type": "display_data"
    }
   ],
   "source": [
    "np.log(msedf[['MSEI', 'MSER']]).plot(title = 'MSE I/R curve')"
   ]
  },
  {
   "cell_type": "code",
   "execution_count": 59,
   "metadata": {},
   "outputs": [
    {
     "data": {
      "text/html": [
       "<div>\n",
       "<style scoped>\n",
       "    .dataframe tbody tr th:only-of-type {\n",
       "        vertical-align: middle;\n",
       "    }\n",
       "\n",
       "    .dataframe tbody tr th {\n",
       "        vertical-align: top;\n",
       "    }\n",
       "\n",
       "    .dataframe thead th {\n",
       "        text-align: right;\n",
       "    }\n",
       "</style>\n",
       "<table border=\"1\" class=\"dataframe\">\n",
       "  <thead>\n",
       "    <tr style=\"text-align: right;\">\n",
       "      <th></th>\n",
       "      <th>MSEI</th>\n",
       "      <th>MSER</th>\n",
       "      <th>beta</th>\n",
       "      <th>gamma</th>\n",
       "    </tr>\n",
       "  </thead>\n",
       "  <tbody>\n",
       "    <tr>\n",
       "      <th>402</th>\n",
       "      <td>370651.196268</td>\n",
       "      <td>173665.132920</td>\n",
       "      <td>2.327345e-07</td>\n",
       "      <td>0.024497</td>\n",
       "    </tr>\n",
       "    <tr>\n",
       "      <th>435</th>\n",
       "      <td>374903.201649</td>\n",
       "      <td>95652.321406</td>\n",
       "      <td>2.375172e-07</td>\n",
       "      <td>0.026196</td>\n",
       "    </tr>\n",
       "    <tr>\n",
       "      <th>468</th>\n",
       "      <td>379311.898763</td>\n",
       "      <td>81198.064623</td>\n",
       "      <td>2.423000e-07</td>\n",
       "      <td>0.027896</td>\n",
       "    </tr>\n",
       "    <tr>\n",
       "      <th>403</th>\n",
       "      <td>380290.626765</td>\n",
       "      <td>167498.998705</td>\n",
       "      <td>2.327345e-07</td>\n",
       "      <td>0.025064</td>\n",
       "    </tr>\n",
       "    <tr>\n",
       "      <th>436</th>\n",
       "      <td>381867.482404</td>\n",
       "      <td>91827.026237</td>\n",
       "      <td>2.375172e-07</td>\n",
       "      <td>0.026763</td>\n",
       "    </tr>\n",
       "    <tr>\n",
       "      <th>469</th>\n",
       "      <td>383706.816263</td>\n",
       "      <td>77178.271908</td>\n",
       "      <td>2.423000e-07</td>\n",
       "      <td>0.028462</td>\n",
       "    </tr>\n",
       "    <tr>\n",
       "      <th>501</th>\n",
       "      <td>383866.192959</td>\n",
       "      <td>130760.279255</td>\n",
       "      <td>2.470828e-07</td>\n",
       "      <td>0.029595</td>\n",
       "    </tr>\n",
       "    <tr>\n",
       "      <th>502</th>\n",
       "      <td>385798.302478</td>\n",
       "      <td>123997.270829</td>\n",
       "      <td>2.470828e-07</td>\n",
       "      <td>0.030162</td>\n",
       "    </tr>\n",
       "    <tr>\n",
       "      <th>535</th>\n",
       "      <td>388132.090243</td>\n",
       "      <td>232714.134737</td>\n",
       "      <td>2.518656e-07</td>\n",
       "      <td>0.031861</td>\n",
       "    </tr>\n",
       "    <tr>\n",
       "      <th>534</th>\n",
       "      <td>388555.547624</td>\n",
       "      <td>244781.475385</td>\n",
       "      <td>2.518656e-07</td>\n",
       "      <td>0.031294</td>\n",
       "    </tr>\n",
       "  </tbody>\n",
       "</table>\n",
       "</div>"
      ],
      "text/plain": [
       "              MSEI           MSER          beta     gamma\n",
       "402  370651.196268  173665.132920  2.327345e-07  0.024497\n",
       "435  374903.201649  95652.321406   2.375172e-07  0.026196\n",
       "468  379311.898763  81198.064623   2.423000e-07  0.027896\n",
       "403  380290.626765  167498.998705  2.327345e-07  0.025064\n",
       "436  381867.482404  91827.026237   2.375172e-07  0.026763\n",
       "469  383706.816263  77178.271908   2.423000e-07  0.028462\n",
       "501  383866.192959  130760.279255  2.470828e-07  0.029595\n",
       "502  385798.302478  123997.270829  2.470828e-07  0.030162\n",
       "535  388132.090243  232714.134737  2.518656e-07  0.031861\n",
       "534  388555.547624  244781.475385  2.518656e-07  0.031294"
      ]
     },
     "execution_count": 59,
     "metadata": {},
     "output_type": "execute_result"
    }
   ],
   "source": [
    "msedf.iloc[400:600].sort_values(['MSEI', 'MSER']).head(10)"
   ]
  },
  {
   "cell_type": "code",
   "execution_count": 60,
   "metadata": {},
   "outputs": [
    {
     "name": "stdout",
     "output_type": "stream",
     "text": [
      "(340, 3)\n"
     ]
    },
    {
     "data": {
      "text/plain": [
       "Text(0.5, 1.0, 'Bangalore - 3%')"
      ]
     },
     "execution_count": 60,
     "metadata": {},
     "output_type": "execute_result"
    },
    {
     "data": {
      "image/png": "[encoded data removed]",
      "text/plain": [
       "<Figure size 720x360 with 1 Axes>"
      ]
     },
     "metadata": {
      "needs_background": "light"
     },
     "output_type": "display_data"
    }
   ],
   "source": [
    "days = range(starting_day_for_0,400)\n",
    "\n",
    "ret = odeint(deriv,\n",
    "             [Susceptible_City[starting_day_for_0], Infected_City[starting_day_for_0], Recovered_City[starting_day_for_0]],\n",
    "             days,\n",
    "             args=(total_pop, 2.423000e-07, 0.027896))\n",
    "print(ret.shape)\n",
    "S, I, R = ret.T\n",
    "dfpresent = pd.DataFrame()\n",
    "# Build a dataframe because why not\n",
    "dfpresent1 = pd.DataFrame()\n",
    "#days = days + 40\n",
    "dfpresent1 = pd.DataFrame({\n",
    "    'suseptible': S,\n",
    "    'infected': I,\n",
    "    'recovered': R,\n",
    "    'day': days\n",
    "})\n",
    "\n",
    "f, (ax1) = plt.subplots(1,figsize=(10,5))\n",
    "plt.rcParams[\"figure.figsize\"] = [12,5]\n",
    "dfpresent1.plot(x='day',\n",
    "        y=['infected', 'suseptible', 'recovered'],\n",
    "        color=['#bb6424', '#aac6ca', '#cc8ac0'],\n",
    "        kind='area',ax =ax1,\n",
    "        stacked=False)\n",
    "ax1.plot(pd.DataFrame(Infected_act_city),'r', alpha=1.0, lw=2, label='Infected')\n",
    "ax1.plot(pd.DataFrame(Recovered_act_city),'b',alpha=1.0, lw=2, label='Recovered')\n",
    "ax1.set_title('Bangalore - 3%',fontsize = 20)"
   ]
  },
  {
   "cell_type": "code",
   "execution_count": 61,
   "metadata": {},
   "outputs": [
    {
     "data": {
      "text/html": [
       "<div>\n",
       "<style scoped>\n",
       "    .dataframe tbody tr th:only-of-type {\n",
       "        vertical-align: middle;\n",
       "    }\n",
       "\n",
       "    .dataframe tbody tr th {\n",
       "        vertical-align: top;\n",
       "    }\n",
       "\n",
       "    .dataframe thead th {\n",
       "        text-align: right;\n",
       "    }\n",
       "</style>\n",
       "<table border=\"1\" class=\"dataframe\">\n",
       "  <thead>\n",
       "    <tr style=\"text-align: right;\">\n",
       "      <th></th>\n",
       "      <th>suseptible</th>\n",
       "      <th>infected</th>\n",
       "      <th>recovered</th>\n",
       "      <th>day</th>\n",
       "    </tr>\n",
       "  </thead>\n",
       "  <tbody>\n",
       "    <tr>\n",
       "      <th>122</th>\n",
       "      <td>115725.204066</td>\n",
       "      <td>120312.984665</td>\n",
       "      <td>133771.81127</td>\n",
       "      <td>182</td>\n",
       "    </tr>\n",
       "  </tbody>\n",
       "</table>\n",
       "</div>"
      ],
      "text/plain": [
       "        suseptible       infected     recovered  day\n",
       "122  115725.204066  120312.984665  133771.81127  182"
      ]
     },
     "execution_count": 61,
     "metadata": {},
     "output_type": "execute_result"
    }
   ],
   "source": [
    "dfpresent1.loc[dfpresent1['infected'] == dfpresent1.max()['infected']]"
   ]
  },
  {
   "cell_type": "code",
   "execution_count": 62,
   "metadata": {},
   "outputs": [
    {
     "data": {
      "text/html": [
       "<div>\n",
       "<style scoped>\n",
       "    .dataframe tbody tr th:only-of-type {\n",
       "        vertical-align: middle;\n",
       "    }\n",
       "\n",
       "    .dataframe tbody tr th {\n",
       "        vertical-align: top;\n",
       "    }\n",
       "\n",
       "    .dataframe thead th {\n",
       "        text-align: right;\n",
       "    }\n",
       "</style>\n",
       "<table border=\"1\" class=\"dataframe\">\n",
       "  <thead>\n",
       "    <tr style=\"text-align: right;\">\n",
       "      <th></th>\n",
       "      <th>suseptible</th>\n",
       "      <th>infected</th>\n",
       "      <th>recovered</th>\n",
       "      <th>day</th>\n",
       "    </tr>\n",
       "  </thead>\n",
       "  <tbody>\n",
       "    <tr>\n",
       "      <th>339</th>\n",
       "      <td>17571.588178</td>\n",
       "      <td>1454.004915</td>\n",
       "      <td>350784.406907</td>\n",
       "      <td>399</td>\n",
       "    </tr>\n",
       "  </tbody>\n",
       "</table>\n",
       "</div>"
      ],
      "text/plain": [
       "       suseptible     infected      recovered  day\n",
       "339  17571.588178  1454.004915  350784.406907  399"
      ]
     },
     "execution_count": 62,
     "metadata": {},
     "output_type": "execute_result"
    }
   ],
   "source": [
    "dfpresent1.sort_values('recovered', ascending=False).head(1)"
   ]
  },
  {
   "cell_type": "code",
   "execution_count": 63,
   "metadata": {},
   "outputs": [
    {
     "data": {
      "text/html": [
       "<div>\n",
       "<style scoped>\n",
       "    .dataframe tbody tr th:only-of-type {\n",
       "        vertical-align: middle;\n",
       "    }\n",
       "\n",
       "    .dataframe tbody tr th {\n",
       "        vertical-align: top;\n",
       "    }\n",
       "\n",
       "    .dataframe thead th {\n",
       "        text-align: right;\n",
       "    }\n",
       "</style>\n",
       "<table border=\"1\" class=\"dataframe\">\n",
       "  <thead>\n",
       "    <tr style=\"text-align: right;\">\n",
       "      <th></th>\n",
       "      <th>suseptible</th>\n",
       "      <th>infected</th>\n",
       "      <th>recovered</th>\n",
       "      <th>day</th>\n",
       "    </tr>\n",
       "  </thead>\n",
       "  <tbody>\n",
       "    <tr>\n",
       "      <th>240</th>\n",
       "      <td>20185.106896</td>\n",
       "      <td>14804.614711</td>\n",
       "      <td>334820.278393</td>\n",
       "      <td>300</td>\n",
       "    </tr>\n",
       "  </tbody>\n",
       "</table>\n",
       "</div>"
      ],
      "text/plain": [
       "       suseptible      infected      recovered  day\n",
       "240  20185.106896  14804.614711  334820.278393  300"
      ]
     },
     "execution_count": 63,
     "metadata": {},
     "output_type": "execute_result"
    }
   ],
   "source": [
    "dfpresent1[dfpresent1['day']==300]"
   ]
  },
  {
   "cell_type": "code",
   "execution_count": 64,
   "metadata": {},
   "outputs": [
    {
     "data": {
      "text/plain": [
       "datetime.datetime(2020, 9, 12, 0, 0)"
      ]
     },
     "execution_count": 64,
     "metadata": {},
     "output_type": "execute_result"
    }
   ],
   "source": [
    "import datetime\n",
    "StartDate = datetime.datetime.strptime(\"20200314\", \"%Y%m%d\")\n",
    "StartDate + datetime.timedelta(days=np.int(dfpresent1.sort_values('infected', ascending=False).head(1)['day']))"
   ]
  },
  {
   "cell_type": "code",
   "execution_count": 65,
   "metadata": {},
   "outputs": [],
   "source": [
    "#Load the data for 11th to 17th and check the values as test data"
   ]
  },
  {
   "cell_type": "code",
   "execution_count": 66,
   "metadata": {},
   "outputs": [],
   "source": [
    "data_test_all = pd.read_csv('Covid_Data_17.Jul.2020.csv')"
   ]
  },
  {
   "cell_type": "code",
   "execution_count": 70,
   "metadata": {},
   "outputs": [],
   "source": [
    "data_test_ka = data_test_all.pivot_table(values='KA', index='Date', columns='Status', aggfunc='sum').reset_index()\n",
    "data_test_ka['Date'] = pd.to_datetime(data_test_ka['Date'], errors='coerce')\n",
    "data_test_ka = (data_test_ka.sort_values('Date').reset_index()).drop('index', axis=1)\n",
    "data_test_ka['Removed'] = data_test_ka['Deceased'] + data_test_ka['Recovered']\n",
    "data_test_ka.drop(['Deceased', 'Recovered'], axis=1, inplace=True)\n",
    "data_test_ka['Infected_Active'] = 0\n",
    "data_test_ka['Recovered_Active'] = 0\n",
    "counter = 0\n",
    "while counter < len(data_test_ka['Removed']):\n",
    "    data_test_ka.loc[counter, 'Infected_Active'] = data_test_ka.loc[0:counter, 'Confirmed'].sum()*population_affected_in_city\n",
    "    data_test_ka.loc[counter, 'Recovered_Active'] = data_test_ka.loc[0:counter, 'Removed'].sum()*population_affected_in_city\n",
    "    counter = counter + 1\n",
    "data_test_ka.drop(['Confirmed', 'Removed'], axis=1, inplace=True)"
   ]
  },
  {
   "cell_type": "code",
   "execution_count": 71,
   "metadata": {},
   "outputs": [
    {
     "data": {
      "text/html": [
       "<div>\n",
       "<style scoped>\n",
       "    .dataframe tbody tr th:only-of-type {\n",
       "        vertical-align: middle;\n",
       "    }\n",
       "\n",
       "    .dataframe tbody tr th {\n",
       "        vertical-align: top;\n",
       "    }\n",
       "\n",
       "    .dataframe thead th {\n",
       "        text-align: right;\n",
       "    }\n",
       "</style>\n",
       "<table border=\"1\" class=\"dataframe\">\n",
       "  <thead>\n",
       "    <tr style=\"text-align: right;\">\n",
       "      <th>Status</th>\n",
       "      <th>Date</th>\n",
       "      <th>Infected_Active</th>\n",
       "      <th>Recovered_Active</th>\n",
       "    </tr>\n",
       "  </thead>\n",
       "  <tbody>\n",
       "    <tr>\n",
       "      <th>120</th>\n",
       "      <td>2020-07-12</td>\n",
       "      <td>19374.8884</td>\n",
       "      <td>8030.1812</td>\n",
       "    </tr>\n",
       "    <tr>\n",
       "      <th>121</th>\n",
       "      <td>2020-07-13</td>\n",
       "      <td>20740.6028</td>\n",
       "      <td>8484.5880</td>\n",
       "    </tr>\n",
       "    <tr>\n",
       "      <th>122</th>\n",
       "      <td>2020-07-14</td>\n",
       "      <td>21985.6076</td>\n",
       "      <td>9097.6132</td>\n",
       "    </tr>\n",
       "    <tr>\n",
       "      <th>123</th>\n",
       "      <td>2020-07-15</td>\n",
       "      <td>23569.7964</td>\n",
       "      <td>9677.7176</td>\n",
       "    </tr>\n",
       "    <tr>\n",
       "      <th>124</th>\n",
       "      <td>2020-07-16</td>\n",
       "      <td>25649.2936</td>\n",
       "      <td>10359.5772</td>\n",
       "    </tr>\n",
       "    <tr>\n",
       "      <th>125</th>\n",
       "      <td>2020-07-17</td>\n",
       "      <td>27491.3620</td>\n",
       "      <td>10929.7056</td>\n",
       "    </tr>\n",
       "  </tbody>\n",
       "</table>\n",
       "</div>"
      ],
      "text/plain": [
       "Status       Date  Infected_Active  Recovered_Active\n",
       "120    2020-07-12  19374.8884       8030.1812       \n",
       "121    2020-07-13  20740.6028       8484.5880       \n",
       "122    2020-07-14  21985.6076       9097.6132       \n",
       "123    2020-07-15  23569.7964       9677.7176       \n",
       "124    2020-07-16  25649.2936       10359.5772      \n",
       "125    2020-07-17  27491.3620       10929.7056      "
      ]
     },
     "execution_count": 71,
     "metadata": {},
     "output_type": "execute_result"
    }
   ],
   "source": [
    "data_test_ka[len(Infected_City):len(data_test_ka)]"
   ]
  },
  {
   "cell_type": "code",
   "execution_count": 73,
   "metadata": {},
   "outputs": [
    {
     "data": {
      "text/html": [
       "<div>\n",
       "<style scoped>\n",
       "    .dataframe tbody tr th:only-of-type {\n",
       "        vertical-align: middle;\n",
       "    }\n",
       "\n",
       "    .dataframe tbody tr th {\n",
       "        vertical-align: top;\n",
       "    }\n",
       "\n",
       "    .dataframe thead th {\n",
       "        text-align: right;\n",
       "    }\n",
       "</style>\n",
       "<table border=\"1\" class=\"dataframe\">\n",
       "  <thead>\n",
       "    <tr style=\"text-align: right;\">\n",
       "      <th></th>\n",
       "      <th>suseptible</th>\n",
       "      <th>infected</th>\n",
       "      <th>recovered</th>\n",
       "      <th>day</th>\n",
       "    </tr>\n",
       "  </thead>\n",
       "  <tbody>\n",
       "    <tr>\n",
       "      <th>60</th>\n",
       "      <td>343963.430800</td>\n",
       "      <td>17487.817129</td>\n",
       "      <td>8358.752072</td>\n",
       "      <td>120</td>\n",
       "    </tr>\n",
       "    <tr>\n",
       "      <th>61</th>\n",
       "      <td>342468.142330</td>\n",
       "      <td>18481.517836</td>\n",
       "      <td>8860.339835</td>\n",
       "      <td>121</td>\n",
       "    </tr>\n",
       "    <tr>\n",
       "      <th>62</th>\n",
       "      <td>340895.244069</td>\n",
       "      <td>19524.425461</td>\n",
       "      <td>9390.330470</td>\n",
       "      <td>122</td>\n",
       "    </tr>\n",
       "    <tr>\n",
       "      <th>63</th>\n",
       "      <td>339241.756503</td>\n",
       "      <td>20618.124626</td>\n",
       "      <td>9950.118871</td>\n",
       "      <td>123</td>\n",
       "    </tr>\n",
       "    <tr>\n",
       "      <th>64</th>\n",
       "      <td>337504.707484</td>\n",
       "      <td>21764.149074</td>\n",
       "      <td>10541.143442</td>\n",
       "      <td>124</td>\n",
       "    </tr>\n",
       "    <tr>\n",
       "      <th>65</th>\n",
       "      <td>335681.148783</td>\n",
       "      <td>22963.966727</td>\n",
       "      <td>11164.884490</td>\n",
       "      <td>125</td>\n",
       "    </tr>\n",
       "  </tbody>\n",
       "</table>\n",
       "</div>"
      ],
      "text/plain": [
       "       suseptible      infected     recovered  day\n",
       "60  343963.430800  17487.817129  8358.752072   120\n",
       "61  342468.142330  18481.517836  8860.339835   121\n",
       "62  340895.244069  19524.425461  9390.330470   122\n",
       "63  339241.756503  20618.124626  9950.118871   123\n",
       "64  337504.707484  21764.149074  10541.143442  124\n",
       "65  335681.148783  22963.966727  11164.884490  125"
      ]
     },
     "execution_count": 73,
     "metadata": {},
     "output_type": "execute_result"
    }
   ],
   "source": [
    "dfpresent1[(dfpresent1['day']>=len(Infected_City)) & (dfpresent1['day']<len(data_test_ka))]"
   ]
  },
  {
   "cell_type": "code",
   "execution_count": null,
   "metadata": {},
   "outputs": [],
   "source": []
  },
  {
   "cell_type": "code",
   "execution_count": null,
   "metadata": {},
   "outputs": [],
   "source": []
  }
 ],
 "metadata": {
  "kernelspec": {
   "display_name": "Python 3",
   "language": "python",
   "name": "python3"
  },
  "language_info": {
   "codemirror_mode": {
    "name": "ipython",
    "version": 3
   },
   "file_extension": ".py",
   "mimetype": "text/x-python",
   "name": "python",
   "nbconvert_exporter": "python",
   "pygments_lexer": "ipython3",
   "version": "3.7.6"
  }
 },
 "nbformat": 4,
 "nbformat_minor": 4
}
