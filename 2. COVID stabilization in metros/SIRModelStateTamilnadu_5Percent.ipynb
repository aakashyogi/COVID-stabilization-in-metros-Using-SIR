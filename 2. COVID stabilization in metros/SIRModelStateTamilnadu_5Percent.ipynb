{
 "cells": [
  {
   "cell_type": "markdown",
   "metadata": {},
   "source": [
    "# The SIR epidemic model"
   ]
  },
  {
   "cell_type": "markdown",
   "metadata": {},
   "source": [
    "A simple mathematical description of the spread of a disease in a population is the so-called SIR model, which divides the (fixed) population of N individuals into three \"compartments\" which may vary as a function of time, t:\n",
    "\n",
    "S(t) are those susceptible but not yet infected with the disease;\n",
    "I(t) is the number of infectious individuals;\n",
    "R(t) are those individuals who have recovered from the disease and now have immunity to it.\n",
    "The SIR model describes the change in the population of each of these compartments in terms of two parameters, β and γ. β describes the effective contact rate of the disease: an infected individual comes into contact with βN other individuals per unit time (of which the fraction that are susceptible to contracting the disease is S/N). γ is the mean recovery rate: that is, 1/γ is the mean period of time during which an infected individual can pass it on.\n",
    "\n",
    "The differential equations describing this model were first derived by Kermack and McKendrick "
   ]
  },
  {
   "cell_type": "markdown",
   "metadata": {},
   "source": [
    "N is the total number of population\n",
    "dS/dt =  -beta * S * I / N\n",
    "dI/dt = beta * S * I/N - gamma * I\n",
    "dR/dt = gamma * I\n",
    "\n"
   ]
  },
  {
   "cell_type": "markdown",
   "metadata": {},
   "source": [
    "Case 1 :\n",
    "Effective contact rate beta  is transmission rate * contact rate.\n",
    "For an example, 10% transmission rate and 5 contacts a day is 0.1 * 5 = 0.50\n",
    "Rate of recovery gamma is 1 / 16 no of days person is contagious which is 0.0625\n",
    "R0 = beta / gamma\n",
    "R0 = 0.50/ 0.0625\n",
    "R0  = 8 which is very large.\n",
    "When R0 is less than 1 then the curve flattens.\n"
   ]
  },
  {
   "cell_type": "markdown",
   "metadata": {},
   "source": [
    "Let's do different plotting for Telagana . with different contract and recovery rate"
   ]
  },
  {
   "cell_type": "code",
   "execution_count": 41,
   "metadata": {},
   "outputs": [],
   "source": [
    "import pandas as pd\n",
    "import numpy as np\n",
    "from scipy.integrate import odeint\n",
    "import matplotlib.pyplot as plt"
   ]
  },
  {
   "cell_type": "code",
   "execution_count": 42,
   "metadata": {},
   "outputs": [],
   "source": [
    "import warnings\n",
    "warnings.filterwarnings(\"ignore\")\n",
    "pd.set_option('display.max_rows', 999)\n",
    "pd.set_option('display.max_columns', 500)  \n",
    "pd.set_option('display.expand_frame_repr', False)\n",
    "pd.set_option('max_colwidth', -1)"
   ]
  },
  {
   "cell_type": "code",
   "execution_count": 43,
   "metadata": {},
   "outputs": [],
   "source": [
    "statedf = pd.read_excel('Covid_Data_11.Jul.2020C.xlsx', 'TN')"
   ]
  },
  {
   "cell_type": "code",
   "execution_count": 44,
   "metadata": {},
   "outputs": [
    {
     "data": {
      "text/html": [
       "<div>\n",
       "<style scoped>\n",
       "    .dataframe tbody tr th:only-of-type {\n",
       "        vertical-align: middle;\n",
       "    }\n",
       "\n",
       "    .dataframe tbody tr th {\n",
       "        vertical-align: top;\n",
       "    }\n",
       "\n",
       "    .dataframe thead th {\n",
       "        text-align: right;\n",
       "    }\n",
       "</style>\n",
       "<table border=\"1\" class=\"dataframe\">\n",
       "  <thead>\n",
       "    <tr style=\"text-align: right;\">\n",
       "      <th></th>\n",
       "      <th>Row Labels</th>\n",
       "      <th>Confirmed</th>\n",
       "      <th>Deceased</th>\n",
       "      <th>Recovered</th>\n",
       "    </tr>\n",
       "  </thead>\n",
       "  <tbody>\n",
       "    <tr>\n",
       "      <th>0</th>\n",
       "      <td>14-Mar</td>\n",
       "      <td>1</td>\n",
       "      <td>0</td>\n",
       "      <td>0</td>\n",
       "    </tr>\n",
       "    <tr>\n",
       "      <th>1</th>\n",
       "      <td>15-Mar</td>\n",
       "      <td>0</td>\n",
       "      <td>0</td>\n",
       "      <td>0</td>\n",
       "    </tr>\n",
       "    <tr>\n",
       "      <th>2</th>\n",
       "      <td>16-Mar</td>\n",
       "      <td>0</td>\n",
       "      <td>0</td>\n",
       "      <td>1</td>\n",
       "    </tr>\n",
       "    <tr>\n",
       "      <th>3</th>\n",
       "      <td>17-Mar</td>\n",
       "      <td>0</td>\n",
       "      <td>0</td>\n",
       "      <td>0</td>\n",
       "    </tr>\n",
       "    <tr>\n",
       "      <th>4</th>\n",
       "      <td>18-Mar</td>\n",
       "      <td>1</td>\n",
       "      <td>0</td>\n",
       "      <td>0</td>\n",
       "    </tr>\n",
       "  </tbody>\n",
       "</table>\n",
       "</div>"
      ],
      "text/plain": [
       "  Row Labels  Confirmed  Deceased  Recovered\n",
       "0  14-Mar     1          0         0        \n",
       "1  15-Mar     0          0         0        \n",
       "2  16-Mar     0          0         1        \n",
       "3  17-Mar     0          0         0        \n",
       "4  18-Mar     1          0         0        "
      ]
     },
     "execution_count": 44,
     "metadata": {},
     "output_type": "execute_result"
    }
   ],
   "source": [
    "statedf.head()"
   ]
  },
  {
   "cell_type": "code",
   "execution_count": 45,
   "metadata": {},
   "outputs": [],
   "source": [
    "statedf['Removed'] = statedf['Deceased'] + statedf['Recovered']\n",
    "statedf.drop(['Deceased', 'Recovered'], axis=1, inplace=True)"
   ]
  },
  {
   "cell_type": "code",
   "execution_count": 46,
   "metadata": {},
   "outputs": [
    {
     "data": {
      "text/plain": [
       "120"
      ]
     },
     "execution_count": 46,
     "metadata": {},
     "output_type": "execute_result"
    }
   ],
   "source": [
    "Inf = np.array(statedf['Confirmed'])\n",
    "len(Inf)"
   ]
  },
  {
   "cell_type": "code",
   "execution_count": 47,
   "metadata": {},
   "outputs": [
    {
     "data": {
      "text/plain": [
       "120"
      ]
     },
     "execution_count": 47,
     "metadata": {},
     "output_type": "execute_result"
    }
   ],
   "source": [
    "Rec = np.array(statedf['Removed'])\n",
    "len(Rec)"
   ]
  },
  {
   "cell_type": "markdown",
   "metadata": {},
   "source": [
    "Plotting Actual data"
   ]
  },
  {
   "cell_type": "code",
   "execution_count": 48,
   "metadata": {},
   "outputs": [
    {
     "data": {
      "image/png": "[encoded data removed]",
      "text/plain": [
       "<Figure size 864x360 with 1 Axes>"
      ]
     },
     "metadata": {},
     "output_type": "display_data"
    }
   ],
   "source": [
    "t = np.linspace(0, 120, 120)\n",
    "fig = plt.figure(facecolor='w')\n",
    "ax = fig.add_subplot(111, facecolor='#dddddd', axisbelow=True)\n",
    "\n",
    "ax.plot(t, Inf, 'r', label='Infected')\n",
    "ax.plot(t, Rec, 'g', label='recovered')\n",
    "#ax.plot(t, D, 'k', label='deceased')\n",
    "\n",
    "ax.set_xlabel('Time /days')\n",
    "ax.set_ylabel('total number of population')\n",
    "\n",
    "ax.yaxis.set_tick_params(length=0)\n",
    "ax.xaxis.set_tick_params(length=0)\n",
    "ax.grid(b=True, which='major', c='w', lw=2, ls='-')\n",
    "legend = ax.legend()\n",
    "legend.get_frame().set_alpha(0.5)\n",
    "for spine in ('top', 'right', 'bottom', 'left'):\n",
    "    ax.spines[spine].set_visible(False)\n",
    "plt.show()"
   ]
  },
  {
   "cell_type": "markdown",
   "metadata": {},
   "source": [
    "Loading the coronavirus india data"
   ]
  },
  {
   "cell_type": "code",
   "execution_count": 49,
   "metadata": {},
   "outputs": [],
   "source": [
    "# The SIR model differential equations.\n",
    "def deriv(state, t, N, beta, gamma):\n",
    "    S, I, R = state\n",
    "    # Change in S population over time\n",
    "    dSdt = -beta * S * I\n",
    "    # Change in I population over time\n",
    "    dIdt = beta * S * I  - gamma * I\n",
    "    # Change in R population over time\n",
    "    dRdt = gamma * I\n",
    "    return dSdt, dIdt, dRdt "
   ]
  },
  {
   "cell_type": "code",
   "execution_count": 50,
   "metadata": {},
   "outputs": [],
   "source": [
    "Infected =[]\n",
    "Recovered = []\n",
    "daily_totalInf = 0\n",
    "daily_totalRec = 0\n",
    "\n",
    "for valinf in Inf:\n",
    "    daily_totalInf = valinf + daily_totalInf\n",
    "    Infected.append(daily_totalInf)\n",
    "for valrec in Rec:\n",
    "    daily_totalRec = valrec + daily_totalRec \n",
    "    Recovered.append(daily_totalRec)"
   ]
  },
  {
   "cell_type": "code",
   "execution_count": 51,
   "metadata": {},
   "outputs": [],
   "source": [
    "Recovered = np.array(Recovered)\n",
    "Infected = np.array(Infected)"
   ]
  },
  {
   "cell_type": "code",
   "execution_count": 52,
   "metadata": {},
   "outputs": [
    {
     "data": {
      "image/png": "[encoded data removed]",
      "text/plain": [
       "<Figure size 864x360 with 1 Axes>"
      ]
     },
     "metadata": {},
     "output_type": "display_data"
    }
   ],
   "source": [
    "t = np.linspace(0, 120, 120)\n",
    "fig = plt.figure(facecolor='w')\n",
    "ax = fig.add_subplot(111, facecolor='#dddddd', axisbelow=True)\n",
    "\n",
    "ax.plot(t, Infected, 'r', label='Infected')\n",
    "ax.plot(t, Recovered, 'g', label='recovered')\n",
    "#ax.plot(t, D, 'k', label='deceased')\n",
    "\n",
    "ax.set_xlabel('Time /days')\n",
    "ax.set_ylabel('total number of population')\n",
    "\n",
    "ax.yaxis.set_tick_params(length=0)\n",
    "ax.xaxis.set_tick_params(length=0)\n",
    "ax.grid(b=True, which='major', c='w', lw=2, ls='-')\n",
    "legend = ax.legend()\n",
    "legend.get_frame().set_alpha(0.5)\n",
    "for spine in ('top', 'right', 'bottom', 'left'):\n",
    "    ax.spines[spine].set_visible(False)\n",
    "plt.show()"
   ]
  },
  {
   "cell_type": "code",
   "execution_count": 53,
   "metadata": {},
   "outputs": [
    {
     "data": {
      "text/plain": [
       "120"
      ]
     },
     "execution_count": 53,
     "metadata": {},
     "output_type": "execute_result"
    }
   ],
   "source": [
    "len(Recovered)"
   ]
  },
  {
   "cell_type": "code",
   "execution_count": 54,
   "metadata": {},
   "outputs": [
    {
     "data": {
      "text/plain": [
       "120"
      ]
     },
     "execution_count": 54,
     "metadata": {},
     "output_type": "execute_result"
    }
   ],
   "source": [
    "len(Infected)"
   ]
  },
  {
   "cell_type": "code",
   "execution_count": 55,
   "metadata": {},
   "outputs": [],
   "source": [
    "#Chennai calculation- Taken 53% of the total cases based on the actual data till date"
   ]
  },
  {
   "cell_type": "code",
   "execution_count": 56,
   "metadata": {},
   "outputs": [],
   "source": [
    "population_affected_in_city = 0.53\n",
    "Infected_City = Infected*population_affected_in_city\n",
    "Recovered_City = Recovered*population_affected_in_city\n",
    "starting_day_for_0 = 40\n",
    "Recovered_act_city = Recovered*population_affected_in_city\n",
    "Infected_act_city = Infected*population_affected_in_city\n",
    "Recovered_act_mse = Recovered[starting_day_for_0:]*population_affected_in_city\n",
    "Infected_act_mse = Infected[starting_day_for_0:]*population_affected_in_city"
   ]
  },
  {
   "cell_type": "code",
   "execution_count": 57,
   "metadata": {},
   "outputs": [
    {
     "data": {
      "text/plain": [
       "120"
      ]
     },
     "execution_count": 57,
     "metadata": {},
     "output_type": "execute_result"
    }
   ],
   "source": [
    "#considering 5% of population. Total population for Chennai City is 10971108\n",
    "total_pop = 10971108 * 0.05\n",
    "Susceptible_City = total_pop - Infected_City - Recovered_City\n",
    "len(Susceptible_City )"
   ]
  },
  {
   "cell_type": "code",
   "execution_count": 58,
   "metadata": {},
   "outputs": [],
   "source": [
    "# Everyone not infected or recovered is susceptible\n",
    "s= []\n",
    "inf = []\n",
    "r = []\n",
    "dt = 1\n",
    "beta = []\n",
    "gamma =[]\n",
    "\n",
    "count =0\n",
    "\n",
    "for i in np.arange(0,119,1):\n",
    "    beta.append((Susceptible_City[i]-Susceptible_City[i+1])/(Susceptible_City[i]*Infected_City[i]*dt))\n",
    "    \n",
    "for i in np.arange(0,119,1):\n",
    "    gamma.append((Recovered_City[i+1]-Recovered_City[i])/(Infected_City[i]*dt))"
   ]
  },
  {
   "cell_type": "code",
   "execution_count": 64,
   "metadata": {},
   "outputs": [
    {
     "data": {
      "text/html": [
       "<div>\n",
       "<style scoped>\n",
       "    .dataframe tbody tr th:only-of-type {\n",
       "        vertical-align: middle;\n",
       "    }\n",
       "\n",
       "    .dataframe tbody tr th {\n",
       "        vertical-align: top;\n",
       "    }\n",
       "\n",
       "    .dataframe thead th {\n",
       "        text-align: right;\n",
       "    }\n",
       "</style>\n",
       "<table border=\"1\" class=\"dataframe\">\n",
       "  <thead>\n",
       "    <tr style=\"text-align: right;\">\n",
       "      <th></th>\n",
       "      <th>0</th>\n",
       "    </tr>\n",
       "  </thead>\n",
       "  <tbody>\n",
       "    <tr>\n",
       "      <th>count</th>\n",
       "      <td>9.900000e+01</td>\n",
       "    </tr>\n",
       "    <tr>\n",
       "      <th>mean</th>\n",
       "      <td>1.716192e-07</td>\n",
       "    </tr>\n",
       "    <tr>\n",
       "      <th>std</th>\n",
       "      <td>5.550020e-08</td>\n",
       "    </tr>\n",
       "    <tr>\n",
       "      <th>min</th>\n",
       "      <td>6.868194e-08</td>\n",
       "    </tr>\n",
       "    <tr>\n",
       "      <th>25%</th>\n",
       "      <td>1.366992e-07</td>\n",
       "    </tr>\n",
       "    <tr>\n",
       "      <th>50%</th>\n",
       "      <td>1.584581e-07</td>\n",
       "    </tr>\n",
       "    <tr>\n",
       "      <th>75%</th>\n",
       "      <td>1.910561e-07</td>\n",
       "    </tr>\n",
       "    <tr>\n",
       "      <th>max</th>\n",
       "      <td>3.631362e-07</td>\n",
       "    </tr>\n",
       "  </tbody>\n",
       "</table>\n",
       "</div>"
      ],
      "text/plain": [
       "                  0\n",
       "count  9.900000e+01\n",
       "mean   1.716192e-07\n",
       "std    5.550020e-08\n",
       "min    6.868194e-08\n",
       "25%    1.366992e-07\n",
       "50%    1.584581e-07\n",
       "75%    1.910561e-07\n",
       "max    3.631362e-07"
      ]
     },
     "execution_count": 64,
     "metadata": {},
     "output_type": "execute_result"
    }
   ],
   "source": [
    "pd.DataFrame(beta[20:]).describe()"
   ]
  },
  {
   "cell_type": "code",
   "execution_count": 65,
   "metadata": {},
   "outputs": [
    {
     "data": {
      "text/html": [
       "<div>\n",
       "<style scoped>\n",
       "    .dataframe tbody tr th:only-of-type {\n",
       "        vertical-align: middle;\n",
       "    }\n",
       "\n",
       "    .dataframe tbody tr th {\n",
       "        vertical-align: top;\n",
       "    }\n",
       "\n",
       "    .dataframe thead th {\n",
       "        text-align: right;\n",
       "    }\n",
       "</style>\n",
       "<table border=\"1\" class=\"dataframe\">\n",
       "  <thead>\n",
       "    <tr style=\"text-align: right;\">\n",
       "      <th></th>\n",
       "      <th>0</th>\n",
       "    </tr>\n",
       "  </thead>\n",
       "  <tbody>\n",
       "    <tr>\n",
       "      <th>count</th>\n",
       "      <td>99.000000</td>\n",
       "    </tr>\n",
       "    <tr>\n",
       "      <th>mean</th>\n",
       "      <td>0.029612</td>\n",
       "    </tr>\n",
       "    <tr>\n",
       "      <th>std</th>\n",
       "      <td>0.019093</td>\n",
       "    </tr>\n",
       "    <tr>\n",
       "      <th>min</th>\n",
       "      <td>0.001098</td>\n",
       "    </tr>\n",
       "    <tr>\n",
       "      <th>25%</th>\n",
       "      <td>0.019446</td>\n",
       "    </tr>\n",
       "    <tr>\n",
       "      <th>50%</th>\n",
       "      <td>0.026266</td>\n",
       "    </tr>\n",
       "    <tr>\n",
       "      <th>75%</th>\n",
       "      <td>0.034889</td>\n",
       "    </tr>\n",
       "    <tr>\n",
       "      <th>max</th>\n",
       "      <td>0.117763</td>\n",
       "    </tr>\n",
       "  </tbody>\n",
       "</table>\n",
       "</div>"
      ],
      "text/plain": [
       "               0\n",
       "count  99.000000\n",
       "mean   0.029612 \n",
       "std    0.019093 \n",
       "min    0.001098 \n",
       "25%    0.019446 \n",
       "50%    0.026266 \n",
       "75%    0.034889 \n",
       "max    0.117763 "
      ]
     },
     "execution_count": 65,
     "metadata": {},
     "output_type": "execute_result"
    }
   ],
   "source": [
    "pd.DataFrame(gamma[20:]).describe()"
   ]
  },
  {
   "cell_type": "code",
   "execution_count": 66,
   "metadata": {},
   "outputs": [
    {
     "data": {
      "image/png": "[encoded data removed]",
      "text/plain": [
       "<Figure size 864x360 with 2 Axes>"
      ]
     },
     "metadata": {
      "needs_background": "light"
     },
     "output_type": "display_data"
    }
   ],
   "source": [
    "t = np.arange(0, 119, 1)\n",
    "data1 = beta\n",
    "data2 = gamma\n",
    "\n",
    "fig, ax1 = plt.subplots()\n",
    "\n",
    "color = 'tab:red'\n",
    "ax1.set_xlabel('day (s)')\n",
    "ax1.set_ylabel('beta', color=color)\n",
    "ax1.plot(t, data1, color=color)\n",
    "ax1.tick_params(axis='y', labelcolor=color)\n",
    "\n",
    "ax2 = ax1.twinx()  # instantiate a second axes that shares the same x-axis\n",
    "\n",
    "color = 'tab:green'\n",
    "ax2.set_ylabel('gamma', color=color)  # we already handled the x-label with ax1\n",
    "ax2.plot(t, data2, color=color)\n",
    "ax2.tick_params(axis='y', labelcolor=color)\n",
    "ax1.set_title('Beta-Gamma curve')\n",
    "fig.tight_layout()  # otherwise the right y-label is slightly clipped\n",
    "plt.show()"
   ]
  },
  {
   "cell_type": "code",
   "execution_count": 67,
   "metadata": {},
   "outputs": [],
   "source": [
    "beta_25 = pd.DataFrame(beta[20:]).describe().T['25%'][0]\n",
    "beta_75 = pd.DataFrame(beta[20:]).describe().T['75%'][0]\n",
    "gamma_25 = pd.DataFrame(gamma[20:]).describe().T['25%'][0]\n",
    "gamma_75 = pd.DataFrame(gamma[20:]).describe().T['75%'][0]"
   ]
  },
  {
   "cell_type": "code",
   "execution_count": 68,
   "metadata": {},
   "outputs": [],
   "source": [
    "dfpredicted = pd.DataFrame(columns = ['S','I','R','beta','gamma'])\n",
    "total_days = 600\n",
    "days = range(0, total_days)\n",
    "sus = []\n",
    "inf = []\n",
    "rec = []\n",
    "\n",
    "for k in np.linspace(beta_25, beta_75, 30):\n",
    "    for z in np.linspace(gamma_25, gamma_75, 30):\n",
    "        ret = odeint(deriv,\n",
    "             [Susceptible_City[starting_day_for_0], Infected_City[starting_day_for_0], Recovered_City[starting_day_for_0]],\n",
    "             days,\n",
    "             args=(total_pop, k, z))\n",
    "\n",
    "        dftemp = pd.DataFrame(ret,columns = ['S','I','R'])\n",
    "        dftemp['beta'] = k\n",
    "        dftemp['gamma'] = z\n",
    "        dfpredicted = pd.concat([dfpredicted, dftemp])"
   ]
  },
  {
   "cell_type": "code",
   "execution_count": 69,
   "metadata": {},
   "outputs": [],
   "source": [
    "from sklearn.metrics import mean_squared_error\n",
    "mserec=[]\n",
    "mseinf = [] \n",
    "betanew = []\n",
    "gammanew = []\n",
    "count_recs = len(Infected_act_mse)\n",
    "for t in np.arange(0,dfpredicted.shape[0],total_days):\n",
    "    Recovered_pred = np.array(dfpredicted.iloc[t:t+total_days]['R'][0:count_recs])\n",
    "    Infected_pred = np.array(dfpredicted.iloc[t:t+total_days]['I'][0:count_recs])\n",
    "    betanew.append(dfpredicted.iloc[t:t+total_days]['beta'][0:1].to_numpy()[0])\n",
    "    gammanew.append(dfpredicted.iloc[t:t+total_days]['gamma'][0:1].to_numpy()[0])\n",
    "    mserec.append(mean_squared_error(Recovered_act_mse, Recovered_pred))\n",
    "    mseinf.append(mean_squared_error(Infected_act_mse, Infected_pred))"
   ]
  },
  {
   "cell_type": "code",
   "execution_count": 70,
   "metadata": {},
   "outputs": [],
   "source": [
    "msedf = pd.DataFrame(columns = ['MSEI','MSER','beta','gamma'])\n",
    "msedf['MSEI'] =mseinf\n",
    "msedf['MSER'] =mserec\n",
    "msedf['beta'] = betanew\n",
    "msedf['gamma'] =gammanew"
   ]
  },
  {
   "cell_type": "code",
   "execution_count": 71,
   "metadata": {},
   "outputs": [
    {
     "data": {
      "text/html": [
       "<div>\n",
       "<style scoped>\n",
       "    .dataframe tbody tr th:only-of-type {\n",
       "        vertical-align: middle;\n",
       "    }\n",
       "\n",
       "    .dataframe tbody tr th {\n",
       "        vertical-align: top;\n",
       "    }\n",
       "\n",
       "    .dataframe thead th {\n",
       "        text-align: right;\n",
       "    }\n",
       "</style>\n",
       "<table border=\"1\" class=\"dataframe\">\n",
       "  <thead>\n",
       "    <tr style=\"text-align: right;\">\n",
       "      <th></th>\n",
       "      <th>MSEI</th>\n",
       "      <th>MSER</th>\n",
       "      <th>beta</th>\n",
       "      <th>gamma</th>\n",
       "    </tr>\n",
       "  </thead>\n",
       "  <tbody>\n",
       "    <tr>\n",
       "      <th>count</th>\n",
       "      <td>9.000000e+02</td>\n",
       "      <td>9.000000e+02</td>\n",
       "      <td>9.000000e+02</td>\n",
       "      <td>900.000000</td>\n",
       "    </tr>\n",
       "    <tr>\n",
       "      <th>mean</th>\n",
       "      <td>3.920582e+08</td>\n",
       "      <td>4.821403e+07</td>\n",
       "      <td>1.638777e-07</td>\n",
       "      <td>0.027167</td>\n",
       "    </tr>\n",
       "    <tr>\n",
       "      <th>std</th>\n",
       "      <td>6.329153e+08</td>\n",
       "      <td>4.420237e+07</td>\n",
       "      <td>1.623258e-08</td>\n",
       "      <td>0.004612</td>\n",
       "    </tr>\n",
       "    <tr>\n",
       "      <th>min</th>\n",
       "      <td>4.912976e+06</td>\n",
       "      <td>1.375035e+06</td>\n",
       "      <td>1.366992e-07</td>\n",
       "      <td>0.019446</td>\n",
       "    </tr>\n",
       "    <tr>\n",
       "      <th>25%</th>\n",
       "      <td>4.372085e+07</td>\n",
       "      <td>1.180615e+07</td>\n",
       "      <td>1.498198e-07</td>\n",
       "      <td>0.023173</td>\n",
       "    </tr>\n",
       "    <tr>\n",
       "      <th>50%</th>\n",
       "      <td>1.528772e+08</td>\n",
       "      <td>3.688557e+07</td>\n",
       "      <td>1.638777e-07</td>\n",
       "      <td>0.027167</td>\n",
       "    </tr>\n",
       "    <tr>\n",
       "      <th>75%</th>\n",
       "      <td>3.775962e+08</td>\n",
       "      <td>7.273524e+07</td>\n",
       "      <td>1.779355e-07</td>\n",
       "      <td>0.031161</td>\n",
       "    </tr>\n",
       "    <tr>\n",
       "      <th>max</th>\n",
       "      <td>4.147397e+09</td>\n",
       "      <td>2.076929e+08</td>\n",
       "      <td>1.910561e-07</td>\n",
       "      <td>0.034889</td>\n",
       "    </tr>\n",
       "  </tbody>\n",
       "</table>\n",
       "</div>"
      ],
      "text/plain": [
       "               MSEI          MSER          beta       gamma\n",
       "count  9.000000e+02  9.000000e+02  9.000000e+02  900.000000\n",
       "mean   3.920582e+08  4.821403e+07  1.638777e-07  0.027167  \n",
       "std    6.329153e+08  4.420237e+07  1.623258e-08  0.004612  \n",
       "min    4.912976e+06  1.375035e+06  1.366992e-07  0.019446  \n",
       "25%    4.372085e+07  1.180615e+07  1.498198e-07  0.023173  \n",
       "50%    1.528772e+08  3.688557e+07  1.638777e-07  0.027167  \n",
       "75%    3.775962e+08  7.273524e+07  1.779355e-07  0.031161  \n",
       "max    4.147397e+09  2.076929e+08  1.910561e-07  0.034889  "
      ]
     },
     "execution_count": 71,
     "metadata": {},
     "output_type": "execute_result"
    }
   ],
   "source": [
    "msedf.describe()"
   ]
  },
  {
   "cell_type": "code",
   "execution_count": 72,
   "metadata": {},
   "outputs": [
    {
     "data": {
      "text/plain": [
       "<matplotlib.axes._subplots.AxesSubplot at 0x296ca87db48>"
      ]
     },
     "execution_count": 72,
     "metadata": {},
     "output_type": "execute_result"
    },
    {
     "data": {
      "image/png": "[encoded data removed]",
      "text/plain": [
       "<Figure size 864x360 with 1 Axes>"
      ]
     },
     "metadata": {
      "needs_background": "light"
     },
     "output_type": "display_data"
    }
   ],
   "source": [
    "np.log(msedf[['MSEI', 'MSER']]).plot()"
   ]
  },
  {
   "cell_type": "code",
   "execution_count": 73,
   "metadata": {},
   "outputs": [
    {
     "data": {
      "text/html": [
       "<div>\n",
       "<style scoped>\n",
       "    .dataframe tbody tr th:only-of-type {\n",
       "        vertical-align: middle;\n",
       "    }\n",
       "\n",
       "    .dataframe tbody tr th {\n",
       "        vertical-align: top;\n",
       "    }\n",
       "\n",
       "    .dataframe thead th {\n",
       "        text-align: right;\n",
       "    }\n",
       "</style>\n",
       "<table border=\"1\" class=\"dataframe\">\n",
       "  <thead>\n",
       "    <tr style=\"text-align: right;\">\n",
       "      <th></th>\n",
       "      <th>MSEI</th>\n",
       "      <th>MSER</th>\n",
       "      <th>beta</th>\n",
       "      <th>gamma</th>\n",
       "    </tr>\n",
       "  </thead>\n",
       "  <tbody>\n",
       "    <tr>\n",
       "      <th>659</th>\n",
       "      <td>4.912976e+06</td>\n",
       "      <td>3.925481e+06</td>\n",
       "      <td>1.760611e-07</td>\n",
       "      <td>0.034889</td>\n",
       "    </tr>\n",
       "    <tr>\n",
       "      <th>627</th>\n",
       "      <td>5.047496e+06</td>\n",
       "      <td>2.779442e+06</td>\n",
       "      <td>1.741867e-07</td>\n",
       "      <td>0.033824</td>\n",
       "    </tr>\n",
       "    <tr>\n",
       "      <th>595</th>\n",
       "      <td>5.284329e+06</td>\n",
       "      <td>2.079315e+06</td>\n",
       "      <td>1.723124e-07</td>\n",
       "      <td>0.032759</td>\n",
       "    </tr>\n",
       "    <tr>\n",
       "      <th>658</th>\n",
       "      <td>5.433012e+06</td>\n",
       "      <td>4.710802e+06</td>\n",
       "      <td>1.760611e-07</td>\n",
       "      <td>0.034356</td>\n",
       "    </tr>\n",
       "    <tr>\n",
       "      <th>564</th>\n",
       "      <td>5.552244e+06</td>\n",
       "      <td>1.727846e+06</td>\n",
       "      <td>1.704380e-07</td>\n",
       "      <td>0.032226</td>\n",
       "    </tr>\n",
       "    <tr>\n",
       "      <th>532</th>\n",
       "      <td>5.584103e+06</td>\n",
       "      <td>2.112796e+06</td>\n",
       "      <td>1.685636e-07</td>\n",
       "      <td>0.031161</td>\n",
       "    </tr>\n",
       "    <tr>\n",
       "      <th>596</th>\n",
       "      <td>5.615000e+06</td>\n",
       "      <td>1.794075e+06</td>\n",
       "      <td>1.723124e-07</td>\n",
       "      <td>0.033291</td>\n",
       "    </tr>\n",
       "    <tr>\n",
       "      <th>563</th>\n",
       "      <td>5.625033e+06</td>\n",
       "      <td>1.839366e+06</td>\n",
       "      <td>1.704380e-07</td>\n",
       "      <td>0.031694</td>\n",
       "    </tr>\n",
       "    <tr>\n",
       "      <th>500</th>\n",
       "      <td>5.711950e+06</td>\n",
       "      <td>2.962747e+06</td>\n",
       "      <td>1.666892e-07</td>\n",
       "      <td>0.030096</td>\n",
       "    </tr>\n",
       "    <tr>\n",
       "      <th>628</th>\n",
       "      <td>5.770978e+06</td>\n",
       "      <td>2.297890e+06</td>\n",
       "      <td>1.741867e-07</td>\n",
       "      <td>0.034356</td>\n",
       "    </tr>\n",
       "  </tbody>\n",
       "</table>\n",
       "</div>"
      ],
      "text/plain": [
       "             MSEI          MSER          beta     gamma\n",
       "659  4.912976e+06  3.925481e+06  1.760611e-07  0.034889\n",
       "627  5.047496e+06  2.779442e+06  1.741867e-07  0.033824\n",
       "595  5.284329e+06  2.079315e+06  1.723124e-07  0.032759\n",
       "658  5.433012e+06  4.710802e+06  1.760611e-07  0.034356\n",
       "564  5.552244e+06  1.727846e+06  1.704380e-07  0.032226\n",
       "532  5.584103e+06  2.112796e+06  1.685636e-07  0.031161\n",
       "596  5.615000e+06  1.794075e+06  1.723124e-07  0.033291\n",
       "563  5.625033e+06  1.839366e+06  1.704380e-07  0.031694\n",
       "500  5.711950e+06  2.962747e+06  1.666892e-07  0.030096\n",
       "628  5.770978e+06  2.297890e+06  1.741867e-07  0.034356"
      ]
     },
     "execution_count": 73,
     "metadata": {},
     "output_type": "execute_result"
    }
   ],
   "source": [
    "msedf.iloc[400:700].sort_values(['MSEI', 'MSER']).head(10)"
   ]
  },
  {
   "cell_type": "code",
   "execution_count": 74,
   "metadata": {},
   "outputs": [
    {
     "data": {
      "text/html": [
       "<div>\n",
       "<style scoped>\n",
       "    .dataframe tbody tr th:only-of-type {\n",
       "        vertical-align: middle;\n",
       "    }\n",
       "\n",
       "    .dataframe tbody tr th {\n",
       "        vertical-align: top;\n",
       "    }\n",
       "\n",
       "    .dataframe thead th {\n",
       "        text-align: right;\n",
       "    }\n",
       "</style>\n",
       "<table border=\"1\" class=\"dataframe\">\n",
       "  <thead>\n",
       "    <tr style=\"text-align: right;\">\n",
       "      <th></th>\n",
       "      <th>MSEI</th>\n",
       "      <th>MSER</th>\n",
       "      <th>beta</th>\n",
       "      <th>gamma</th>\n",
       "    </tr>\n",
       "  </thead>\n",
       "  <tbody>\n",
       "    <tr>\n",
       "      <th>599</th>\n",
       "      <td>1.554862e+07</td>\n",
       "      <td>1.375035e+06</td>\n",
       "      <td>1.723124e-07</td>\n",
       "      <td>0.034889</td>\n",
       "    </tr>\n",
       "    <tr>\n",
       "      <th>598</th>\n",
       "      <td>1.087714e+07</td>\n",
       "      <td>1.439512e+06</td>\n",
       "      <td>1.723124e-07</td>\n",
       "      <td>0.034356</td>\n",
       "    </tr>\n",
       "    <tr>\n",
       "      <th>597</th>\n",
       "      <td>7.523895e+06</td>\n",
       "      <td>1.579931e+06</td>\n",
       "      <td>1.723124e-07</td>\n",
       "      <td>0.033824</td>\n",
       "    </tr>\n",
       "    <tr>\n",
       "      <th>565</th>\n",
       "      <td>7.102521e+06</td>\n",
       "      <td>1.680376e+06</td>\n",
       "      <td>1.704380e-07</td>\n",
       "      <td>0.032759</td>\n",
       "    </tr>\n",
       "    <tr>\n",
       "      <th>566</th>\n",
       "      <td>1.013824e+07</td>\n",
       "      <td>1.699537e+06</td>\n",
       "      <td>1.704380e-07</td>\n",
       "      <td>0.033291</td>\n",
       "    </tr>\n",
       "    <tr>\n",
       "      <th>564</th>\n",
       "      <td>5.552244e+06</td>\n",
       "      <td>1.727846e+06</td>\n",
       "      <td>1.704380e-07</td>\n",
       "      <td>0.032226</td>\n",
       "    </tr>\n",
       "    <tr>\n",
       "      <th>567</th>\n",
       "      <td>1.452980e+07</td>\n",
       "      <td>1.787533e+06</td>\n",
       "      <td>1.704380e-07</td>\n",
       "      <td>0.033824</td>\n",
       "    </tr>\n",
       "    <tr>\n",
       "      <th>596</th>\n",
       "      <td>5.615000e+06</td>\n",
       "      <td>1.794075e+06</td>\n",
       "      <td>1.723124e-07</td>\n",
       "      <td>0.033291</td>\n",
       "    </tr>\n",
       "    <tr>\n",
       "      <th>563</th>\n",
       "      <td>5.625033e+06</td>\n",
       "      <td>1.839366e+06</td>\n",
       "      <td>1.704380e-07</td>\n",
       "      <td>0.031694</td>\n",
       "    </tr>\n",
       "    <tr>\n",
       "      <th>629</th>\n",
       "      <td>8.028874e+06</td>\n",
       "      <td>1.895696e+06</td>\n",
       "      <td>1.741867e-07</td>\n",
       "      <td>0.034889</td>\n",
       "    </tr>\n",
       "  </tbody>\n",
       "</table>\n",
       "</div>"
      ],
      "text/plain": [
       "             MSEI          MSER          beta     gamma\n",
       "599  1.554862e+07  1.375035e+06  1.723124e-07  0.034889\n",
       "598  1.087714e+07  1.439512e+06  1.723124e-07  0.034356\n",
       "597  7.523895e+06  1.579931e+06  1.723124e-07  0.033824\n",
       "565  7.102521e+06  1.680376e+06  1.704380e-07  0.032759\n",
       "566  1.013824e+07  1.699537e+06  1.704380e-07  0.033291\n",
       "564  5.552244e+06  1.727846e+06  1.704380e-07  0.032226\n",
       "567  1.452980e+07  1.787533e+06  1.704380e-07  0.033824\n",
       "596  5.615000e+06  1.794075e+06  1.723124e-07  0.033291\n",
       "563  5.625033e+06  1.839366e+06  1.704380e-07  0.031694\n",
       "629  8.028874e+06  1.895696e+06  1.741867e-07  0.034889"
      ]
     },
     "execution_count": 74,
     "metadata": {},
     "output_type": "execute_result"
    }
   ],
   "source": [
    "msedf.iloc[400:700].sort_values(['MSER', 'MSEI']).head(10)"
   ]
  },
  {
   "cell_type": "code",
   "execution_count": 75,
   "metadata": {},
   "outputs": [
    {
     "name": "stdout",
     "output_type": "stream",
     "text": [
      "(460, 3)\n"
     ]
    },
    {
     "data": {
      "image/png": "[encoded data removed]",
      "text/plain": [
       "<Figure size 720x360 with 1 Axes>"
      ]
     },
     "metadata": {
      "needs_background": "light"
     },
     "output_type": "display_data"
    }
   ],
   "source": [
    "days = range(starting_day_for_0, 500)\n",
    "\n",
    "ret = odeint(deriv,\n",
    "             [Susceptible_City[starting_day_for_0], Infected_City[starting_day_for_0], Recovered_City[starting_day_for_0]],\n",
    "             days,\n",
    "             args=(total_pop, 1.704380e-07, 0.032226))\n",
    "print(ret.shape)\n",
    "S, I, R = ret.T\n",
    "dfpresent = pd.DataFrame()\n",
    "# Build a dataframe because why not\n",
    "dfpresent1 = pd.DataFrame()\n",
    "#days = days + 40\n",
    "dfpresent1 = pd.DataFrame({\n",
    "    'suseptible': S,\n",
    "    'infected': I,\n",
    "    'recovered': R,\n",
    "    'day': days\n",
    "})\n",
    "\n",
    "f, (ax1) = plt.subplots(1,figsize=(10,5))\n",
    "plt.rcParams[\"figure.figsize\"] = [12,5]\n",
    "dfpresent1.plot(x='day',\n",
    "        y=['infected', 'suseptible', 'recovered'],\n",
    "        color=['#bb6424', '#aac6ca', '#cc8ac0'],\n",
    "        kind='area',ax =ax1,\n",
    "        stacked=False)\n",
    "\n",
    "ax1.plot(pd.DataFrame(Infected_act_city),'r', alpha=1.0, lw=2, label='Infected')\n",
    "ax1.plot(pd.DataFrame(Recovered_act_city),'b',alpha=1.0, lw=2, label='Recovered')\n",
    "ax1.set_title('Chennai - 5%',fontsize = 20)\n",
    "plt.show()"
   ]
  },
  {
   "cell_type": "code",
   "execution_count": 33,
   "metadata": {},
   "outputs": [
    {
     "data": {
      "text/html": [
       "<div>\n",
       "<style scoped>\n",
       "    .dataframe tbody tr th:only-of-type {\n",
       "        vertical-align: middle;\n",
       "    }\n",
       "\n",
       "    .dataframe tbody tr th {\n",
       "        vertical-align: top;\n",
       "    }\n",
       "\n",
       "    .dataframe thead th {\n",
       "        text-align: right;\n",
       "    }\n",
       "</style>\n",
       "<table border=\"1\" class=\"dataframe\">\n",
       "  <thead>\n",
       "    <tr style=\"text-align: right;\">\n",
       "      <th></th>\n",
       "      <th>suseptible</th>\n",
       "      <th>infected</th>\n",
       "      <th>recovered</th>\n",
       "      <th>day</th>\n",
       "    </tr>\n",
       "  </thead>\n",
       "  <tbody>\n",
       "    <tr>\n",
       "      <th>116</th>\n",
       "      <td>190559.931606</td>\n",
       "      <td>158119.55647</td>\n",
       "      <td>199875.911923</td>\n",
       "      <td>156</td>\n",
       "    </tr>\n",
       "  </tbody>\n",
       "</table>\n",
       "</div>"
      ],
      "text/plain": [
       "        suseptible      infected      recovered  day\n",
       "116  190559.931606  158119.55647  199875.911923  156"
      ]
     },
     "execution_count": 33,
     "metadata": {},
     "output_type": "execute_result"
    }
   ],
   "source": [
    "dfpresent1.sort_values('infected', ascending=False).head(1)"
   ]
  },
  {
   "cell_type": "code",
   "execution_count": 34,
   "metadata": {},
   "outputs": [
    {
     "data": {
      "text/html": [
       "<div>\n",
       "<style scoped>\n",
       "    .dataframe tbody tr th:only-of-type {\n",
       "        vertical-align: middle;\n",
       "    }\n",
       "\n",
       "    .dataframe tbody tr th {\n",
       "        vertical-align: top;\n",
       "    }\n",
       "\n",
       "    .dataframe thead th {\n",
       "        text-align: right;\n",
       "    }\n",
       "</style>\n",
       "<table border=\"1\" class=\"dataframe\">\n",
       "  <thead>\n",
       "    <tr style=\"text-align: right;\">\n",
       "      <th></th>\n",
       "      <th>suseptible</th>\n",
       "      <th>infected</th>\n",
       "      <th>recovered</th>\n",
       "      <th>day</th>\n",
       "    </tr>\n",
       "  </thead>\n",
       "  <tbody>\n",
       "    <tr>\n",
       "      <th>459</th>\n",
       "      <td>36583.263779</td>\n",
       "      <td>47.184613</td>\n",
       "      <td>511924.951608</td>\n",
       "      <td>499</td>\n",
       "    </tr>\n",
       "  </tbody>\n",
       "</table>\n",
       "</div>"
      ],
      "text/plain": [
       "       suseptible   infected      recovered  day\n",
       "459  36583.263779  47.184613  511924.951608  499"
      ]
     },
     "execution_count": 34,
     "metadata": {},
     "output_type": "execute_result"
    }
   ],
   "source": [
    "dfpresent1.sort_values('recovered', ascending=False).head(1)"
   ]
  },
  {
   "cell_type": "code",
   "execution_count": 35,
   "metadata": {},
   "outputs": [
    {
     "data": {
      "text/html": [
       "<div>\n",
       "<style scoped>\n",
       "    .dataframe tbody tr th:only-of-type {\n",
       "        vertical-align: middle;\n",
       "    }\n",
       "\n",
       "    .dataframe tbody tr th {\n",
       "        vertical-align: top;\n",
       "    }\n",
       "\n",
       "    .dataframe thead th {\n",
       "        text-align: right;\n",
       "    }\n",
       "</style>\n",
       "<table border=\"1\" class=\"dataframe\">\n",
       "  <thead>\n",
       "    <tr style=\"text-align: right;\">\n",
       "      <th></th>\n",
       "      <th>suseptible</th>\n",
       "      <th>infected</th>\n",
       "      <th>recovered</th>\n",
       "      <th>day</th>\n",
       "    </tr>\n",
       "  </thead>\n",
       "  <tbody>\n",
       "    <tr>\n",
       "      <th>60</th>\n",
       "      <td>500576.776055</td>\n",
       "      <td>30712.724278</td>\n",
       "      <td>17265.899667</td>\n",
       "      <td>100</td>\n",
       "    </tr>\n",
       "  </tbody>\n",
       "</table>\n",
       "</div>"
      ],
      "text/plain": [
       "       suseptible      infected     recovered  day\n",
       "60  500576.776055  30712.724278  17265.899667  100"
      ]
     },
     "execution_count": 35,
     "metadata": {},
     "output_type": "execute_result"
    }
   ],
   "source": [
    "dfpresent1[dfpresent1['day']==100]"
   ]
  },
  {
   "cell_type": "code",
   "execution_count": 36,
   "metadata": {},
   "outputs": [
    {
     "data": {
      "text/html": [
       "<div>\n",
       "<style scoped>\n",
       "    .dataframe tbody tr th:only-of-type {\n",
       "        vertical-align: middle;\n",
       "    }\n",
       "\n",
       "    .dataframe tbody tr th {\n",
       "        vertical-align: top;\n",
       "    }\n",
       "\n",
       "    .dataframe thead th {\n",
       "        text-align: right;\n",
       "    }\n",
       "</style>\n",
       "<table border=\"1\" class=\"dataframe\">\n",
       "  <thead>\n",
       "    <tr style=\"text-align: right;\">\n",
       "      <th></th>\n",
       "      <th>suseptible</th>\n",
       "      <th>infected</th>\n",
       "      <th>recovered</th>\n",
       "      <th>day</th>\n",
       "    </tr>\n",
       "  </thead>\n",
       "  <tbody>\n",
       "    <tr>\n",
       "      <th>160</th>\n",
       "      <td>71312.726405</td>\n",
       "      <td>91523.960841</td>\n",
       "      <td>385718.712754</td>\n",
       "      <td>200</td>\n",
       "    </tr>\n",
       "  </tbody>\n",
       "</table>\n",
       "</div>"
      ],
      "text/plain": [
       "       suseptible      infected      recovered  day\n",
       "160  71312.726405  91523.960841  385718.712754  200"
      ]
     },
     "execution_count": 36,
     "metadata": {},
     "output_type": "execute_result"
    }
   ],
   "source": [
    "dfpresent1[dfpresent1['day']==200]"
   ]
  },
  {
   "cell_type": "code",
   "execution_count": 37,
   "metadata": {},
   "outputs": [
    {
     "data": {
      "text/html": [
       "<div>\n",
       "<style scoped>\n",
       "    .dataframe tbody tr th:only-of-type {\n",
       "        vertical-align: middle;\n",
       "    }\n",
       "\n",
       "    .dataframe tbody tr th {\n",
       "        vertical-align: top;\n",
       "    }\n",
       "\n",
       "    .dataframe thead th {\n",
       "        text-align: right;\n",
       "    }\n",
       "</style>\n",
       "<table border=\"1\" class=\"dataframe\">\n",
       "  <thead>\n",
       "    <tr style=\"text-align: right;\">\n",
       "      <th></th>\n",
       "      <th>suseptible</th>\n",
       "      <th>infected</th>\n",
       "      <th>recovered</th>\n",
       "      <th>day</th>\n",
       "    </tr>\n",
       "  </thead>\n",
       "  <tbody>\n",
       "    <tr>\n",
       "      <th>260</th>\n",
       "      <td>38609.340899</td>\n",
       "      <td>8213.025963</td>\n",
       "      <td>501733.033138</td>\n",
       "      <td>300</td>\n",
       "    </tr>\n",
       "  </tbody>\n",
       "</table>\n",
       "</div>"
      ],
      "text/plain": [
       "       suseptible     infected      recovered  day\n",
       "260  38609.340899  8213.025963  501733.033138  300"
      ]
     },
     "execution_count": 37,
     "metadata": {},
     "output_type": "execute_result"
    }
   ],
   "source": [
    "dfpresent1[dfpresent1['day']==300]"
   ]
  },
  {
   "cell_type": "code",
   "execution_count": 58,
   "metadata": {},
   "outputs": [
    {
     "data": {
      "text/plain": [
       "datetime.datetime(2020, 8, 16, 0, 0)"
      ]
     },
     "execution_count": 58,
     "metadata": {},
     "output_type": "execute_result"
    }
   ],
   "source": [
    "import datetime\n",
    "StartDate = datetime.datetime.strptime(\"20200314\", \"%Y%m%d\")\n",
    "StartDate + datetime.timedelta(days=np.int(dfpresent1.sort_values('infected', ascending=False).head(1)['day']))"
   ]
  },
  {
   "cell_type": "code",
   "execution_count": 65,
   "metadata": {},
   "outputs": [],
   "source": [
    "#Load the data for 11th to 17th and check the values as test data"
   ]
  },
  {
   "cell_type": "code",
   "execution_count": 66,
   "metadata": {},
   "outputs": [],
   "source": [
    "data_test_all = pd.read_csv('Covid_Data_17.Jul.2020.csv')"
   ]
  },
  {
   "cell_type": "code",
   "execution_count": 119,
   "metadata": {},
   "outputs": [],
   "source": [
    "data_test_tn = data_test_all.pivot_table(values='TN', index='Date', columns='Status', aggfunc='sum').reset_index()\n",
    "data_test_tn['Date'] = pd.to_datetime(data_test_tn['Date'], errors='coerce')\n",
    "data_test_tn = (data_test_tn.sort_values('Date').reset_index()).drop('index', axis=1)\n",
    "data_test_tn['Removed'] = data_test_tn['Deceased'] + data_test_tn['Recovered']\n",
    "data_test_tn.drop(['Deceased', 'Recovered'], axis=1, inplace=True)\n",
    "data_test_tn['Infected_Active'] = 0\n",
    "data_test_tn['Recovered_Active'] = 0\n",
    "counter = 0\n",
    "while counter < len(data_test_tn['Removed']):\n",
    "    data_test_tn.loc[counter, 'Infected_Active'] = data_test_tn.loc[0:counter, 'Confirmed'].sum()*population_affected_in_city\n",
    "    data_test_tn.loc[counter, 'Recovered_Active'] = data_test_tn.loc[0:counter, 'Removed'].sum()*population_affected_in_city\n",
    "    counter = counter + 1\n",
    "data_test_tn.drop(['Confirmed', 'Removed'], axis=1, inplace=True)"
   ]
  },
  {
   "cell_type": "code",
   "execution_count": 116,
   "metadata": {},
   "outputs": [
    {
     "data": {
      "text/html": [
       "<div>\n",
       "<style scoped>\n",
       "    .dataframe tbody tr th:only-of-type {\n",
       "        vertical-align: middle;\n",
       "    }\n",
       "\n",
       "    .dataframe tbody tr th {\n",
       "        vertical-align: top;\n",
       "    }\n",
       "\n",
       "    .dataframe thead th {\n",
       "        text-align: right;\n",
       "    }\n",
       "</style>\n",
       "<table border=\"1\" class=\"dataframe\">\n",
       "  <thead>\n",
       "    <tr style=\"text-align: right;\">\n",
       "      <th>Status</th>\n",
       "      <th>Date</th>\n",
       "      <th>Infected_Active</th>\n",
       "      <th>Recovered_Active</th>\n",
       "    </tr>\n",
       "  </thead>\n",
       "  <tbody>\n",
       "    <tr>\n",
       "      <th>120</th>\n",
       "      <td>2020-07-12</td>\n",
       "      <td>73389.10</td>\n",
       "      <td>48493.94</td>\n",
       "    </tr>\n",
       "    <tr>\n",
       "      <th>121</th>\n",
       "      <td>2020-07-13</td>\n",
       "      <td>75682.94</td>\n",
       "      <td>50137.47</td>\n",
       "    </tr>\n",
       "    <tr>\n",
       "      <th>122</th>\n",
       "      <td>2020-07-14</td>\n",
       "      <td>78081.72</td>\n",
       "      <td>52686.77</td>\n",
       "    </tr>\n",
       "    <tr>\n",
       "      <th>123</th>\n",
       "      <td>2020-07-15</td>\n",
       "      <td>80464.60</td>\n",
       "      <td>55372.81</td>\n",
       "    </tr>\n",
       "    <tr>\n",
       "      <th>124</th>\n",
       "      <td>2020-07-16</td>\n",
       "      <td>82875.57</td>\n",
       "      <td>58115.56</td>\n",
       "    </tr>\n",
       "    <tr>\n",
       "      <th>125</th>\n",
       "      <td>2020-07-17</td>\n",
       "      <td>85280.71</td>\n",
       "      <td>59954.66</td>\n",
       "    </tr>\n",
       "  </tbody>\n",
       "</table>\n",
       "</div>"
      ],
      "text/plain": [
       "Status       Date  Infected_Active  Recovered_Active\n",
       "120    2020-07-12  73389.10         48493.94        \n",
       "121    2020-07-13  75682.94         50137.47        \n",
       "122    2020-07-14  78081.72         52686.77        \n",
       "123    2020-07-15  80464.60         55372.81        \n",
       "124    2020-07-16  82875.57         58115.56        \n",
       "125    2020-07-17  85280.71         59954.66        "
      ]
     },
     "execution_count": 116,
     "metadata": {},
     "output_type": "execute_result"
    }
   ],
   "source": [
    "data_test_tn[len(Infected_City):len(data_test_tn)]"
   ]
  },
  {
   "cell_type": "code",
   "execution_count": 117,
   "metadata": {},
   "outputs": [
    {
     "data": {
      "text/html": [
       "<div>\n",
       "<style scoped>\n",
       "    .dataframe tbody tr th:only-of-type {\n",
       "        vertical-align: middle;\n",
       "    }\n",
       "\n",
       "    .dataframe tbody tr th {\n",
       "        vertical-align: top;\n",
       "    }\n",
       "\n",
       "    .dataframe thead th {\n",
       "        text-align: right;\n",
       "    }\n",
       "</style>\n",
       "<table border=\"1\" class=\"dataframe\">\n",
       "  <thead>\n",
       "    <tr style=\"text-align: right;\">\n",
       "      <th></th>\n",
       "      <th>suseptible</th>\n",
       "      <th>infected</th>\n",
       "      <th>recovered</th>\n",
       "      <th>day</th>\n",
       "    </tr>\n",
       "  </thead>\n",
       "  <tbody>\n",
       "    <tr>\n",
       "      <th>80</th>\n",
       "      <td>419028.022828</td>\n",
       "      <td>78639.105057</td>\n",
       "      <td>50888.272114</td>\n",
       "      <td>120</td>\n",
       "    </tr>\n",
       "    <tr>\n",
       "      <th>81</th>\n",
       "      <td>413340.127764</td>\n",
       "      <td>81742.879008</td>\n",
       "      <td>53472.393228</td>\n",
       "      <td>121</td>\n",
       "    </tr>\n",
       "    <tr>\n",
       "      <th>82</th>\n",
       "      <td>407512.410461</td>\n",
       "      <td>84885.804481</td>\n",
       "      <td>56157.185058</td>\n",
       "      <td>122</td>\n",
       "    </tr>\n",
       "    <tr>\n",
       "      <th>83</th>\n",
       "      <td>401550.554134</td>\n",
       "      <td>88061.045276</td>\n",
       "      <td>58943.800590</td>\n",
       "      <td>123</td>\n",
       "    </tr>\n",
       "    <tr>\n",
       "      <th>84</th>\n",
       "      <td>395460.959641</td>\n",
       "      <td>91261.276051</td>\n",
       "      <td>61833.164308</td>\n",
       "      <td>124</td>\n",
       "    </tr>\n",
       "    <tr>\n",
       "      <th>85</th>\n",
       "      <td>389250.728988</td>\n",
       "      <td>94478.713564</td>\n",
       "      <td>64825.957448</td>\n",
       "      <td>125</td>\n",
       "    </tr>\n",
       "  </tbody>\n",
       "</table>\n",
       "</div>"
      ],
      "text/plain": [
       "       suseptible      infected     recovered  day\n",
       "80  419028.022828  78639.105057  50888.272114  120\n",
       "81  413340.127764  81742.879008  53472.393228  121\n",
       "82  407512.410461  84885.804481  56157.185058  122\n",
       "83  401550.554134  88061.045276  58943.800590  123\n",
       "84  395460.959641  91261.276051  61833.164308  124\n",
       "85  389250.728988  94478.713564  64825.957448  125"
      ]
     },
     "execution_count": 117,
     "metadata": {},
     "output_type": "execute_result"
    }
   ],
   "source": [
    "dfpresent1[(dfpresent1['day']>=len(Infected_City)) & (dfpresent1['day']<len(data_test_tn))]"
   ]
  },
  {
   "cell_type": "code",
   "execution_count": null,
   "metadata": {},
   "outputs": [],
   "source": []
  }
 ],
 "metadata": {
  "kernelspec": {
   "display_name": "Python 3",
   "language": "python",
   "name": "python3"
  },
  "language_info": {
   "codemirror_mode": {
    "name": "ipython",
    "version": 3
   },
   "file_extension": ".py",
   "mimetype": "text/x-python",
   "name": "python",
   "nbconvert_exporter": "python",
   "pygments_lexer": "ipython3",
   "version": "3.7.6"
  }
 },
 "nbformat": 4,
 "nbformat_minor": 4
}
