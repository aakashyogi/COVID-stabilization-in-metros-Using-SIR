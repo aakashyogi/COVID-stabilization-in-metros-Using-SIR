{
 "cells": [
  {
   "cell_type": "markdown",
   "metadata": {},
   "source": [
    "# The SIR epidemic model"
   ]
  },
  {
   "cell_type": "markdown",
   "metadata": {},
   "source": [
    "A simple mathematical description of the spread of a disease in a population is the so-called SIR model, which divides the (fixed) population of N individuals into three \"compartments\" which may vary as a function of time, t:\n",
    "\n",
    "S(t) are those susceptible but not yet infected with the disease;\n",
    "I(t) is the number of infectious individuals;\n",
    "R(t) are those individuals who have recovered from the disease and now have immunity to it.\n",
    "The SIR model describes the change in the population of each of these compartments in terms of two parameters, β and γ. β describes the effective contact rate of the disease: an infected individual comes into contact with βN other individuals per unit time (of which the fraction that are susceptible to contracting the disease is S/N). γ is the mean recovery rate: that is, 1/γ is the mean period of time during which an infected individual can pass it on.\n",
    "\n",
    "The differential equations describing this model were first derived by Kermack and McKendrick "
   ]
  },
  {
   "cell_type": "markdown",
   "metadata": {},
   "source": [
    "N is the total number of population\n",
    "dS/dt =  -beta * S * I / N\n",
    "dI/dt = beta * S * I/N - gamma * I\n",
    "dR/dt = gamma * I\n",
    "\n"
   ]
  },
  {
   "cell_type": "markdown",
   "metadata": {},
   "source": [
    "Case 1 :\n",
    "Effective contact rate beta  is transmission rate * contact rate.\n",
    "For an example, 10% transmission rate and 5 contacts a day is 0.1 * 5 = 0.50\n",
    "Rate of recovery gamma is 1 / 16 no of days person is contagious which is 0.0625\n",
    "R0 = beta / gamma\n",
    "R0 = 0.50/ 0.0625\n",
    "R0  = 8 which is very large.\n",
    "When R0 is less than 1 then the curve flattens.\n"
   ]
  },
  {
   "cell_type": "markdown",
   "metadata": {},
   "source": [
    "Let's do different plotting for Telagana . with different contract and recovery rate"
   ]
  },
  {
   "cell_type": "code",
   "execution_count": 1,
   "metadata": {},
   "outputs": [],
   "source": [
    "import pandas as pd\n",
    "import numpy as np\n",
    "from scipy.integrate import odeint\n",
    "import matplotlib.pyplot as plt"
   ]
  },
  {
   "cell_type": "code",
   "execution_count": 2,
   "metadata": {},
   "outputs": [],
   "source": [
    "import warnings\n",
    "warnings.filterwarnings(\"ignore\")\n",
    "pd.set_option('display.max_rows', 999)\n",
    "pd.set_option('display.max_columns', 500)  \n",
    "pd.set_option('display.expand_frame_repr', False)\n",
    "pd.set_option('max_colwidth', -1)"
   ]
  },
  {
   "cell_type": "code",
   "execution_count": 3,
   "metadata": {},
   "outputs": [],
   "source": [
    "statedf = pd.read_excel('Covid_Data_11.Jul.2020.xlsx', 'TG')"
   ]
  },
  {
   "cell_type": "code",
   "execution_count": 4,
   "metadata": {},
   "outputs": [
    {
     "data": {
      "text/html": [
       "<div>\n",
       "<style scoped>\n",
       "    .dataframe tbody tr th:only-of-type {\n",
       "        vertical-align: middle;\n",
       "    }\n",
       "\n",
       "    .dataframe tbody tr th {\n",
       "        vertical-align: top;\n",
       "    }\n",
       "\n",
       "    .dataframe thead th {\n",
       "        text-align: right;\n",
       "    }\n",
       "</style>\n",
       "<table border=\"1\" class=\"dataframe\">\n",
       "  <thead>\n",
       "    <tr style=\"text-align: right;\">\n",
       "      <th></th>\n",
       "      <th>Row Labels</th>\n",
       "      <th>Confirmed</th>\n",
       "      <th>Deceased</th>\n",
       "      <th>Recovered</th>\n",
       "    </tr>\n",
       "  </thead>\n",
       "  <tbody>\n",
       "    <tr>\n",
       "      <th>0</th>\n",
       "      <td>14-Mar</td>\n",
       "      <td>1</td>\n",
       "      <td>0</td>\n",
       "      <td>0</td>\n",
       "    </tr>\n",
       "    <tr>\n",
       "      <th>1</th>\n",
       "      <td>15-Mar</td>\n",
       "      <td>2</td>\n",
       "      <td>0</td>\n",
       "      <td>1</td>\n",
       "    </tr>\n",
       "    <tr>\n",
       "      <th>2</th>\n",
       "      <td>16-Mar</td>\n",
       "      <td>1</td>\n",
       "      <td>0</td>\n",
       "      <td>0</td>\n",
       "    </tr>\n",
       "    <tr>\n",
       "      <th>3</th>\n",
       "      <td>17-Mar</td>\n",
       "      <td>1</td>\n",
       "      <td>0</td>\n",
       "      <td>0</td>\n",
       "    </tr>\n",
       "    <tr>\n",
       "      <th>4</th>\n",
       "      <td>18-Mar</td>\n",
       "      <td>8</td>\n",
       "      <td>0</td>\n",
       "      <td>0</td>\n",
       "    </tr>\n",
       "  </tbody>\n",
       "</table>\n",
       "</div>"
      ],
      "text/plain": [
       "  Row Labels  Confirmed  Deceased  Recovered\n",
       "0  14-Mar     1          0         0        \n",
       "1  15-Mar     2          0         1        \n",
       "2  16-Mar     1          0         0        \n",
       "3  17-Mar     1          0         0        \n",
       "4  18-Mar     8          0         0        "
      ]
     },
     "execution_count": 4,
     "metadata": {},
     "output_type": "execute_result"
    }
   ],
   "source": [
    "statedf.head()"
   ]
  },
  {
   "cell_type": "code",
   "execution_count": 5,
   "metadata": {},
   "outputs": [],
   "source": [
    "statedf['Removed'] = statedf['Deceased'] + statedf['Recovered']\n",
    "statedf.drop(['Deceased', 'Recovered'], axis=1, inplace=True)"
   ]
  },
  {
   "cell_type": "code",
   "execution_count": 6,
   "metadata": {},
   "outputs": [
    {
     "data": {
      "text/plain": [
       "120"
      ]
     },
     "execution_count": 6,
     "metadata": {},
     "output_type": "execute_result"
    }
   ],
   "source": [
    "Inf = np.array(statedf['Confirmed'])\n",
    "len(Inf)"
   ]
  },
  {
   "cell_type": "code",
   "execution_count": 7,
   "metadata": {},
   "outputs": [
    {
     "data": {
      "text/plain": [
       "120"
      ]
     },
     "execution_count": 7,
     "metadata": {},
     "output_type": "execute_result"
    }
   ],
   "source": [
    "Rec = np.array(statedf['Removed'])\n",
    "len(Rec)"
   ]
  },
  {
   "cell_type": "markdown",
   "metadata": {},
   "source": [
    "Plotting Actual data"
   ]
  },
  {
   "cell_type": "code",
   "execution_count": 9,
   "metadata": {
    "scrolled": true
   },
   "outputs": [
    {
     "data": {
      "image/png": "[encoded data removed]",
      "text/plain": [
       "<Figure size 432x288 with 1 Axes>"
      ]
     },
     "metadata": {},
     "output_type": "display_data"
    }
   ],
   "source": [
    "t = np.linspace(0, 120, 120)\n",
    "fig = plt.figure(facecolor='w')\n",
    "ax = fig.add_subplot(111, facecolor='#dddddd', axisbelow=True)\n",
    "\n",
    "ax.plot(t, Inf, 'r', label='Infected')\n",
    "ax.plot(t, Rec, 'g', label='recovered')\n",
    "#ax.plot(t, D, 'k', label='deceased')\n",
    "\n",
    "ax.set_xlabel('Time /days')\n",
    "ax.set_ylabel('total number of population')\n",
    "\n",
    "ax.yaxis.set_tick_params(length=0)\n",
    "ax.xaxis.set_tick_params(length=0)\n",
    "ax.grid(b=True, which='major', c='w', lw=2, ls='-')\n",
    "legend = ax.legend()\n",
    "legend.get_frame().set_alpha(0.5)\n",
    "for spine in ('top', 'right', 'bottom', 'left'):\n",
    "    ax.spines[spine].set_visible(False)\n",
    "plt.show()"
   ]
  },
  {
   "cell_type": "markdown",
   "metadata": {},
   "source": [
    "Loading the coronavirus india data"
   ]
  },
  {
   "cell_type": "code",
   "execution_count": 10,
   "metadata": {},
   "outputs": [],
   "source": [
    "# The SIR model differential equations.\n",
    "def deriv(state, t, N, beta, gamma):\n",
    "    S, I, R = state\n",
    "    # Change in S population over time\n",
    "    dSdt = -beta * S * I\n",
    "    # Change in I population over time\n",
    "    dIdt = beta * S * I  - gamma * I\n",
    "    # Change in R population over time\n",
    "    dRdt = gamma * I\n",
    "    return dSdt, dIdt, dRdt "
   ]
  },
  {
   "cell_type": "code",
   "execution_count": 11,
   "metadata": {},
   "outputs": [],
   "source": [
    "Infected =[]\n",
    "Recovered = []\n",
    "daily_totalInf = 0\n",
    "daily_totalRec = 0\n",
    "\n",
    "for valinf in Inf:\n",
    "    daily_totalInf = valinf + daily_totalInf\n",
    "    Infected.append(daily_totalInf)\n",
    "for valrec in Rec:\n",
    "    daily_totalRec = valrec + daily_totalRec \n",
    "    Recovered.append(daily_totalRec)"
   ]
  },
  {
   "cell_type": "code",
   "execution_count": 12,
   "metadata": {},
   "outputs": [],
   "source": [
    "Recovered = np.array(Recovered)\n",
    "Infected = np.array(Infected)"
   ]
  },
  {
   "cell_type": "code",
   "execution_count": 13,
   "metadata": {},
   "outputs": [
    {
     "data": {
      "image/png": "[encoded data removed]",
      "text/plain": [
       "<Figure size 432x288 with 1 Axes>"
      ]
     },
     "metadata": {},
     "output_type": "display_data"
    }
   ],
   "source": [
    "t = np.linspace(0, 120, 120)\n",
    "fig = plt.figure(facecolor='w')\n",
    "ax = fig.add_subplot(111, facecolor='#dddddd', axisbelow=True)\n",
    "\n",
    "ax.plot(t, Infected, 'r', label='Infected')\n",
    "ax.plot(t, Recovered, 'g', label='recovered')\n",
    "#ax.plot(t, D, 'k', label='deceased')\n",
    "\n",
    "ax.set_xlabel('Time /days')\n",
    "ax.set_ylabel('total number of population')\n",
    "\n",
    "ax.yaxis.set_tick_params(length=0)\n",
    "ax.xaxis.set_tick_params(length=0)\n",
    "ax.grid(b=True, which='major', c='w', lw=2, ls='-')\n",
    "legend = ax.legend()\n",
    "legend.get_frame().set_alpha(0.5)\n",
    "for spine in ('top', 'right', 'bottom', 'left'):\n",
    "    ax.spines[spine].set_visible(False)\n",
    "plt.show()"
   ]
  },
  {
   "cell_type": "code",
   "execution_count": 14,
   "metadata": {},
   "outputs": [
    {
     "data": {
      "text/plain": [
       "120"
      ]
     },
     "execution_count": 14,
     "metadata": {},
     "output_type": "execute_result"
    }
   ],
   "source": [
    "len(Recovered)"
   ]
  },
  {
   "cell_type": "code",
   "execution_count": 15,
   "metadata": {},
   "outputs": [
    {
     "data": {
      "text/plain": [
       "120"
      ]
     },
     "execution_count": 15,
     "metadata": {},
     "output_type": "execute_result"
    }
   ],
   "source": [
    "len(Infected)"
   ]
  },
  {
   "cell_type": "code",
   "execution_count": 16,
   "metadata": {},
   "outputs": [],
   "source": [
    "#Hyderabad calculation- Taken 75% of the total cases based on the actual data till date"
   ]
  },
  {
   "cell_type": "code",
   "execution_count": 17,
   "metadata": {},
   "outputs": [],
   "source": [
    "population_affected_in_city = 0.75\n",
    "Infected_City = Infected*population_affected_in_city\n",
    "Recovered_City = Recovered*population_affected_in_city\n",
    "starting_day_for_0 = 75\n",
    "Recovered_act_city = Recovered*population_affected_in_city\n",
    "Infected_act_city = Infected*population_affected_in_city\n",
    "Recovered_act_mse = Recovered[starting_day_for_0:]*population_affected_in_city\n",
    "Infected_act_mse = Infected[starting_day_for_0:]*population_affected_in_city"
   ]
  },
  {
   "cell_type": "code",
   "execution_count": 18,
   "metadata": {},
   "outputs": [
    {
     "data": {
      "text/plain": [
       "120"
      ]
     },
     "execution_count": 18,
     "metadata": {},
     "output_type": "execute_result"
    }
   ],
   "source": [
    "#considering 3% of population. Total population for Hyderabad City is 10000000\n",
    "total_pop = 10000000 * 0.03\n",
    "Susceptible_City = total_pop - Infected_City - Recovered_City\n",
    "len(Susceptible_City )"
   ]
  },
  {
   "cell_type": "code",
   "execution_count": 19,
   "metadata": {},
   "outputs": [],
   "source": [
    "# Everyone not infected or recovered is susceptible\n",
    "s= []\n",
    "inf = []\n",
    "r = []\n",
    "dt = 1\n",
    "beta = []\n",
    "gamma =[]\n",
    "\n",
    "count =0\n",
    "\n",
    "for i in np.arange(0,119,1):\n",
    "    beta.append((Susceptible_City[i]-Susceptible_City[i+1])/(Susceptible_City[i]*Infected_City[i]*dt))\n",
    "    \n",
    "for i in np.arange(0,119,1):\n",
    "    gamma.append((Recovered_City[i+1]-Recovered_City[i])/(Infected_City[i]*dt))"
   ]
  },
  {
   "cell_type": "code",
   "execution_count": 20,
   "metadata": {},
   "outputs": [
    {
     "data": {
      "text/plain": [
       "<matplotlib.axes._subplots.AxesSubplot at 0x1cb5e0db588>"
      ]
     },
     "execution_count": 20,
     "metadata": {},
     "output_type": "execute_result"
    },
    {
     "data": {
      "image/png": "[encoded data removed]",
      "text/plain": [
       "<Figure size 432x288 with 1 Axes>"
      ]
     },
     "metadata": {
      "needs_background": "light"
     },
     "output_type": "display_data"
    }
   ],
   "source": [
    "pd.DataFrame(gamma).plot()"
   ]
  },
  {
   "cell_type": "code",
   "execution_count": 65,
   "metadata": {},
   "outputs": [
    {
     "data": {
      "image/png": "[encoded data removed]",
      "text/plain": [
       "<Figure size 864x360 with 1 Axes>"
      ]
     },
     "metadata": {
      "needs_background": "light"
     },
     "output_type": "display_data"
    }
   ],
   "source": [
    "\n",
    "f, (ax1) = plt.subplots(1,figsize=(12,5))\n",
    "\n",
    "\n",
    "ax1.plot(beta,'r', alpha=1.0,label='beta')\n",
    "ax1.plot(gamma,'b',alpha=1.0,  label='gamma')\n",
    "ax1.set_title('Beta-Gamma curve',fontsize=20)\n",
    "plt.show()"
   ]
  },
  {
   "cell_type": "code",
   "execution_count": 67,
   "metadata": {},
   "outputs": [
    {
     "data": {
      "image/png": "[encoded data removed]",
      "text/plain": [
       "<Figure size 720x360 with 1 Axes>"
      ]
     },
     "metadata": {},
     "output_type": "display_data"
    }
   ],
   "source": [
    "t = np.linspace(0, 119, 119)\n",
    "fig = plt.figure(facecolor='w')\n",
    "ax = fig.add_subplot(111, facecolor='#dddddd', axisbelow=True)\n",
    "\n",
    "ax.plot(t, beta, 'r', label='Infected')\n",
    "ax.plot(t, gamma, 'g', label='recovered')\n",
    "#ax.plot(t, D, 'k', label='deceased')\n",
    "\n",
    "ax.set_xlabel('Time /days')\n",
    "#ax.set_ylabel('total number of population')\n",
    "\n",
    "ax.yaxis.set_tick_params(length=0)\n",
    "ax.xaxis.set_tick_params(length=0)\n",
    "ax.grid(b=True, which='major', c='w', lw=2, ls='-')\n",
    "legend = ax.legend()\n",
    "legend.get_frame().set_alpha(0.5)\n",
    "for spine in ('top', 'right', 'bottom', 'left'):\n",
    "    ax.spines[spine].set_visible(False)\n",
    "plt.show()"
   ]
  },
  {
   "cell_type": "code",
   "execution_count": 71,
   "metadata": {},
   "outputs": [
    {
     "data": {
      "text/plain": [
       "119"
      ]
     },
     "execution_count": 71,
     "metadata": {},
     "output_type": "execute_result"
    }
   ],
   "source": [
    "len(beta)"
   ]
  },
  {
   "cell_type": "code",
   "execution_count": 82,
   "metadata": {},
   "outputs": [
    {
     "data": {
      "image/png": "[encoded data removed]",
      "text/plain": [
       "<Figure size 720x360 with 2 Axes>"
      ]
     },
     "metadata": {
      "needs_background": "light"
     },
     "output_type": "display_data"
    }
   ],
   "source": [
    "t = np.arange(0, 119, 1)\n",
    "data1 = beta\n",
    "data2 = gamma\n",
    "\n",
    "fig, ax1 = plt.subplots()\n",
    "\n",
    "color = 'tab:red'\n",
    "ax1.set_xlabel('day (s)')\n",
    "ax1.set_ylabel('beta', color=color)\n",
    "ax1.plot(t, data1, color=color)\n",
    "ax1.tick_params(axis='y', labelcolor=color)\n",
    "\n",
    "ax2 = ax1.twinx()  # instantiate a second axes that shares the same x-axis\n",
    "\n",
    "color = 'tab:green'\n",
    "ax2.set_ylabel('gamma', color=color)  # we already handled the x-label with ax1\n",
    "ax2.plot(t, data2, color=color)\n",
    "ax2.tick_params(axis='y', labelcolor=color)\n",
    "ax1.set_title('Beta-Gamma curve')\n",
    "fig.tight_layout()  # otherwise the right y-label is slightly clipped\n",
    "plt.show()"
   ]
  },
  {
   "cell_type": "code",
   "execution_count": 22,
   "metadata": {
    "scrolled": true
   },
   "outputs": [
    {
     "data": {
      "text/html": [
       "<div>\n",
       "<style scoped>\n",
       "    .dataframe tbody tr th:only-of-type {\n",
       "        vertical-align: middle;\n",
       "    }\n",
       "\n",
       "    .dataframe tbody tr th {\n",
       "        vertical-align: top;\n",
       "    }\n",
       "\n",
       "    .dataframe thead th {\n",
       "        text-align: right;\n",
       "    }\n",
       "</style>\n",
       "<table border=\"1\" class=\"dataframe\">\n",
       "  <thead>\n",
       "    <tr style=\"text-align: right;\">\n",
       "      <th></th>\n",
       "      <th>0</th>\n",
       "    </tr>\n",
       "  </thead>\n",
       "  <tbody>\n",
       "    <tr>\n",
       "      <th>count</th>\n",
       "      <td>9.900000e+01</td>\n",
       "    </tr>\n",
       "    <tr>\n",
       "      <th>mean</th>\n",
       "      <td>2.724497e-07</td>\n",
       "    </tr>\n",
       "    <tr>\n",
       "      <th>std</th>\n",
       "      <td>1.535071e-07</td>\n",
       "    </tr>\n",
       "    <tr>\n",
       "      <th>min</th>\n",
       "      <td>5.763625e-08</td>\n",
       "    </tr>\n",
       "    <tr>\n",
       "      <th>25%</th>\n",
       "      <td>1.513871e-07</td>\n",
       "    </tr>\n",
       "    <tr>\n",
       "      <th>50%</th>\n",
       "      <td>2.453113e-07</td>\n",
       "    </tr>\n",
       "    <tr>\n",
       "      <th>75%</th>\n",
       "      <td>3.680444e-07</td>\n",
       "    </tr>\n",
       "    <tr>\n",
       "      <th>max</th>\n",
       "      <td>7.604046e-07</td>\n",
       "    </tr>\n",
       "  </tbody>\n",
       "</table>\n",
       "</div>"
      ],
      "text/plain": [
       "                  0\n",
       "count  9.900000e+01\n",
       "mean   2.724497e-07\n",
       "std    1.535071e-07\n",
       "min    5.763625e-08\n",
       "25%    1.513871e-07\n",
       "50%    2.453113e-07\n",
       "75%    3.680444e-07\n",
       "max    7.604046e-07"
      ]
     },
     "execution_count": 22,
     "metadata": {},
     "output_type": "execute_result"
    }
   ],
   "source": [
    "pd.DataFrame(beta[20:]).describe()"
   ]
  },
  {
   "cell_type": "code",
   "execution_count": 23,
   "metadata": {},
   "outputs": [
    {
     "data": {
      "text/html": [
       "<div>\n",
       "<style scoped>\n",
       "    .dataframe tbody tr th:only-of-type {\n",
       "        vertical-align: middle;\n",
       "    }\n",
       "\n",
       "    .dataframe tbody tr th {\n",
       "        vertical-align: top;\n",
       "    }\n",
       "\n",
       "    .dataframe thead th {\n",
       "        text-align: right;\n",
       "    }\n",
       "</style>\n",
       "<table border=\"1\" class=\"dataframe\">\n",
       "  <thead>\n",
       "    <tr style=\"text-align: right;\">\n",
       "      <th></th>\n",
       "      <th>0</th>\n",
       "    </tr>\n",
       "  </thead>\n",
       "  <tbody>\n",
       "    <tr>\n",
       "      <th>count</th>\n",
       "      <td>99.000000</td>\n",
       "    </tr>\n",
       "    <tr>\n",
       "      <th>mean</th>\n",
       "      <td>0.027253</td>\n",
       "    </tr>\n",
       "    <tr>\n",
       "      <th>std</th>\n",
       "      <td>0.025311</td>\n",
       "    </tr>\n",
       "    <tr>\n",
       "      <th>min</th>\n",
       "      <td>0.000000</td>\n",
       "    </tr>\n",
       "    <tr>\n",
       "      <th>25%</th>\n",
       "      <td>0.008682</td>\n",
       "    </tr>\n",
       "    <tr>\n",
       "      <th>50%</th>\n",
       "      <td>0.018248</td>\n",
       "    </tr>\n",
       "    <tr>\n",
       "      <th>75%</th>\n",
       "      <td>0.039919</td>\n",
       "    </tr>\n",
       "    <tr>\n",
       "      <th>max</th>\n",
       "      <td>0.111667</td>\n",
       "    </tr>\n",
       "  </tbody>\n",
       "</table>\n",
       "</div>"
      ],
      "text/plain": [
       "               0\n",
       "count  99.000000\n",
       "mean   0.027253 \n",
       "std    0.025311 \n",
       "min    0.000000 \n",
       "25%    0.008682 \n",
       "50%    0.018248 \n",
       "75%    0.039919 \n",
       "max    0.111667 "
      ]
     },
     "execution_count": 23,
     "metadata": {},
     "output_type": "execute_result"
    }
   ],
   "source": [
    "pd.DataFrame(gamma[20:]).describe()"
   ]
  },
  {
   "cell_type": "code",
   "execution_count": 24,
   "metadata": {},
   "outputs": [],
   "source": [
    "beta_25 = pd.DataFrame(beta[20:]).describe().T['25%'][0]\n",
    "beta_75 = pd.DataFrame(beta[20:]).describe().T['75%'][0]\n",
    "gamma_25 = pd.DataFrame(gamma[20:]).describe().T['25%'][0]\n",
    "gamma_75 = pd.DataFrame(gamma[20:]).describe().T['75%'][0]"
   ]
  },
  {
   "cell_type": "code",
   "execution_count": 25,
   "metadata": {},
   "outputs": [],
   "source": [
    "dfpredicted = pd.DataFrame(columns = ['S','I','R','beta','gamma'])\n",
    "total_days = 600\n",
    "days = range(0, total_days)\n",
    "sus = []\n",
    "inf = []\n",
    "rec = []\n",
    "\n",
    "for k in np.linspace(beta_25, beta_75, 30):\n",
    "    for z in np.linspace(gamma_25, gamma_75, 30):\n",
    "        ret = odeint(deriv,\n",
    "             [Susceptible_City[starting_day_for_0], Infected_City[starting_day_for_0], Recovered_City[starting_day_for_0]],\n",
    "             days,\n",
    "             args=(total_pop, k, z))\n",
    "\n",
    "        dftemp = pd.DataFrame(ret,columns = ['S','I','R'])\n",
    "        dftemp['beta'] = k\n",
    "        dftemp['gamma'] = z\n",
    "        dfpredicted = pd.concat([dfpredicted, dftemp])"
   ]
  },
  {
   "cell_type": "code",
   "execution_count": 26,
   "metadata": {},
   "outputs": [],
   "source": [
    "from sklearn.metrics import mean_squared_error\n",
    "mserec=[]\n",
    "mseinf = [] \n",
    "betanew = []\n",
    "gammanew = []\n",
    "count_recs = len(Infected_act_mse)\n",
    "for t in np.arange(0,dfpredicted.shape[0],total_days):\n",
    "    Recovered_pred = np.array(dfpredicted.iloc[t:t+total_days]['R'][0:count_recs])\n",
    "    Infected_pred = np.array(dfpredicted.iloc[t:t+total_days]['I'][0:count_recs])\n",
    "    betanew.append(dfpredicted.iloc[t:t+total_days]['beta'][0:1].to_numpy()[0])\n",
    "    gammanew.append(dfpredicted.iloc[t:t+total_days]['gamma'][0:1].to_numpy()[0])\n",
    "    mserec.append(mean_squared_error(Recovered_act_mse, Recovered_pred))\n",
    "    mseinf.append(mean_squared_error(Infected_act_mse, Infected_pred))"
   ]
  },
  {
   "cell_type": "code",
   "execution_count": 27,
   "metadata": {},
   "outputs": [],
   "source": [
    "msedf = pd.DataFrame(columns = ['MSEI','MSER','beta','gamma'])\n",
    "msedf['MSEI'] =mseinf\n",
    "msedf['MSER'] =mserec\n",
    "msedf['beta'] = betanew\n",
    "msedf['gamma'] =gammanew"
   ]
  },
  {
   "cell_type": "code",
   "execution_count": 28,
   "metadata": {},
   "outputs": [
    {
     "data": {
      "text/html": [
       "<div>\n",
       "<style scoped>\n",
       "    .dataframe tbody tr th:only-of-type {\n",
       "        vertical-align: middle;\n",
       "    }\n",
       "\n",
       "    .dataframe tbody tr th {\n",
       "        vertical-align: top;\n",
       "    }\n",
       "\n",
       "    .dataframe thead th {\n",
       "        text-align: right;\n",
       "    }\n",
       "</style>\n",
       "<table border=\"1\" class=\"dataframe\">\n",
       "  <thead>\n",
       "    <tr style=\"text-align: right;\">\n",
       "      <th></th>\n",
       "      <th>MSEI</th>\n",
       "      <th>MSER</th>\n",
       "      <th>beta</th>\n",
       "      <th>gamma</th>\n",
       "    </tr>\n",
       "  </thead>\n",
       "  <tbody>\n",
       "    <tr>\n",
       "      <th>count</th>\n",
       "      <td>9.000000e+02</td>\n",
       "      <td>9.000000e+02</td>\n",
       "      <td>9.000000e+02</td>\n",
       "      <td>900.000000</td>\n",
       "    </tr>\n",
       "    <tr>\n",
       "      <th>mean</th>\n",
       "      <td>5.202756e+07</td>\n",
       "      <td>8.168347e+06</td>\n",
       "      <td>2.597158e-07</td>\n",
       "      <td>0.024300</td>\n",
       "    </tr>\n",
       "    <tr>\n",
       "      <th>std</th>\n",
       "      <td>7.740367e+07</td>\n",
       "      <td>5.555272e+06</td>\n",
       "      <td>6.470023e-08</td>\n",
       "      <td>0.009328</td>\n",
       "    </tr>\n",
       "    <tr>\n",
       "      <th>min</th>\n",
       "      <td>9.332196e+05</td>\n",
       "      <td>3.878234e+05</td>\n",
       "      <td>1.513871e-07</td>\n",
       "      <td>0.008682</td>\n",
       "    </tr>\n",
       "    <tr>\n",
       "      <th>25%</th>\n",
       "      <td>9.757449e+06</td>\n",
       "      <td>2.868290e+06</td>\n",
       "      <td>2.036837e-07</td>\n",
       "      <td>0.016222</td>\n",
       "    </tr>\n",
       "    <tr>\n",
       "      <th>50%</th>\n",
       "      <td>3.287809e+07</td>\n",
       "      <td>7.562748e+06</td>\n",
       "      <td>2.597158e-07</td>\n",
       "      <td>0.024300</td>\n",
       "    </tr>\n",
       "    <tr>\n",
       "      <th>75%</th>\n",
       "      <td>6.183123e+07</td>\n",
       "      <td>1.285512e+07</td>\n",
       "      <td>3.157478e-07</td>\n",
       "      <td>0.032379</td>\n",
       "    </tr>\n",
       "    <tr>\n",
       "      <th>max</th>\n",
       "      <td>6.871721e+08</td>\n",
       "      <td>2.176156e+07</td>\n",
       "      <td>3.680444e-07</td>\n",
       "      <td>0.039919</td>\n",
       "    </tr>\n",
       "  </tbody>\n",
       "</table>\n",
       "</div>"
      ],
      "text/plain": [
       "               MSEI          MSER          beta       gamma\n",
       "count  9.000000e+02  9.000000e+02  9.000000e+02  900.000000\n",
       "mean   5.202756e+07  8.168347e+06  2.597158e-07  0.024300  \n",
       "std    7.740367e+07  5.555272e+06  6.470023e-08  0.009328  \n",
       "min    9.332196e+05  3.878234e+05  1.513871e-07  0.008682  \n",
       "25%    9.757449e+06  2.868290e+06  2.036837e-07  0.016222  \n",
       "50%    3.287809e+07  7.562748e+06  2.597158e-07  0.024300  \n",
       "75%    6.183123e+07  1.285512e+07  3.157478e-07  0.032379  \n",
       "max    6.871721e+08  2.176156e+07  3.680444e-07  0.039919  "
      ]
     },
     "execution_count": 28,
     "metadata": {},
     "output_type": "execute_result"
    }
   ],
   "source": [
    "msedf.describe()"
   ]
  },
  {
   "cell_type": "code",
   "execution_count": 83,
   "metadata": {},
   "outputs": [
    {
     "data": {
      "text/plain": [
       "<matplotlib.axes._subplots.AxesSubplot at 0x1cb5cfc8308>"
      ]
     },
     "execution_count": 83,
     "metadata": {},
     "output_type": "execute_result"
    },
    {
     "data": {
      "image/png": "[encoded data removed]",
      "text/plain": [
       "<Figure size 720x360 with 1 Axes>"
      ]
     },
     "metadata": {
      "needs_background": "light"
     },
     "output_type": "display_data"
    }
   ],
   "source": [
    "np.log(msedf[['MSEI', 'MSER']]).plot(title = 'MSE- I/R Curve')"
   ]
  },
  {
   "cell_type": "code",
   "execution_count": null,
   "metadata": {},
   "outputs": [],
   "source": []
  },
  {
   "cell_type": "code",
   "execution_count": 30,
   "metadata": {},
   "outputs": [
    {
     "data": {
      "text/html": [
       "<div>\n",
       "<style scoped>\n",
       "    .dataframe tbody tr th:only-of-type {\n",
       "        vertical-align: middle;\n",
       "    }\n",
       "\n",
       "    .dataframe tbody tr th {\n",
       "        vertical-align: top;\n",
       "    }\n",
       "\n",
       "    .dataframe thead th {\n",
       "        text-align: right;\n",
       "    }\n",
       "</style>\n",
       "<table border=\"1\" class=\"dataframe\">\n",
       "  <thead>\n",
       "    <tr style=\"text-align: right;\">\n",
       "      <th></th>\n",
       "      <th>MSEI</th>\n",
       "      <th>MSER</th>\n",
       "      <th>beta</th>\n",
       "      <th>gamma</th>\n",
       "    </tr>\n",
       "  </thead>\n",
       "  <tbody>\n",
       "    <tr>\n",
       "      <th>776</th>\n",
       "      <td>1.197373e+06</td>\n",
       "      <td>1.795164e+06</td>\n",
       "      <td>3.381606e-07</td>\n",
       "      <td>0.036687</td>\n",
       "    </tr>\n",
       "    <tr>\n",
       "      <th>775</th>\n",
       "      <td>1.222390e+06</td>\n",
       "      <td>1.711349e+06</td>\n",
       "      <td>3.381606e-07</td>\n",
       "      <td>0.035610</td>\n",
       "    </tr>\n",
       "    <tr>\n",
       "      <th>808</th>\n",
       "      <td>1.230240e+06</td>\n",
       "      <td>2.365236e+06</td>\n",
       "      <td>3.456315e-07</td>\n",
       "      <td>0.038842</td>\n",
       "    </tr>\n",
       "    <tr>\n",
       "      <th>807</th>\n",
       "      <td>1.234287e+06</td>\n",
       "      <td>2.283429e+06</td>\n",
       "      <td>3.456315e-07</td>\n",
       "      <td>0.037764</td>\n",
       "    </tr>\n",
       "    <tr>\n",
       "      <th>839</th>\n",
       "      <td>1.248161e+06</td>\n",
       "      <td>3.102245e+06</td>\n",
       "      <td>3.531025e-07</td>\n",
       "      <td>0.039919</td>\n",
       "    </tr>\n",
       "    <tr>\n",
       "      <th>777</th>\n",
       "      <td>1.497153e+06</td>\n",
       "      <td>1.875871e+06</td>\n",
       "      <td>3.381606e-07</td>\n",
       "      <td>0.037764</td>\n",
       "    </tr>\n",
       "    <tr>\n",
       "      <th>809</th>\n",
       "      <td>1.546933e+06</td>\n",
       "      <td>2.441041e+06</td>\n",
       "      <td>3.456315e-07</td>\n",
       "      <td>0.039919</td>\n",
       "    </tr>\n",
       "    <tr>\n",
       "      <th>838</th>\n",
       "      <td>1.585242e+06</td>\n",
       "      <td>3.026190e+06</td>\n",
       "      <td>3.531025e-07</td>\n",
       "      <td>0.038842</td>\n",
       "    </tr>\n",
       "    <tr>\n",
       "      <th>806</th>\n",
       "      <td>1.597597e+06</td>\n",
       "      <td>2.195419e+06</td>\n",
       "      <td>3.456315e-07</td>\n",
       "      <td>0.036687</td>\n",
       "    </tr>\n",
       "    <tr>\n",
       "      <th>774</th>\n",
       "      <td>1.611334e+06</td>\n",
       "      <td>1.624662e+06</td>\n",
       "      <td>3.381606e-07</td>\n",
       "      <td>0.034533</td>\n",
       "    </tr>\n",
       "  </tbody>\n",
       "</table>\n",
       "</div>"
      ],
      "text/plain": [
       "             MSEI          MSER          beta     gamma\n",
       "776  1.197373e+06  1.795164e+06  3.381606e-07  0.036687\n",
       "775  1.222390e+06  1.711349e+06  3.381606e-07  0.035610\n",
       "808  1.230240e+06  2.365236e+06  3.456315e-07  0.038842\n",
       "807  1.234287e+06  2.283429e+06  3.456315e-07  0.037764\n",
       "839  1.248161e+06  3.102245e+06  3.531025e-07  0.039919\n",
       "777  1.497153e+06  1.875871e+06  3.381606e-07  0.037764\n",
       "809  1.546933e+06  2.441041e+06  3.456315e-07  0.039919\n",
       "838  1.585242e+06  3.026190e+06  3.531025e-07  0.038842\n",
       "806  1.597597e+06  2.195419e+06  3.456315e-07  0.036687\n",
       "774  1.611334e+06  1.624662e+06  3.381606e-07  0.034533"
      ]
     },
     "execution_count": 30,
     "metadata": {},
     "output_type": "execute_result"
    }
   ],
   "source": [
    "msedf.iloc[750:,].sort_values(['MSEI', 'MSER']).head(10)"
   ]
  },
  {
   "cell_type": "code",
   "execution_count": 85,
   "metadata": {
    "scrolled": false
   },
   "outputs": [
    {
     "name": "stdout",
     "output_type": "stream",
     "text": [
      "(425, 3)\n"
     ]
    },
    {
     "data": {
      "image/png": "[encoded data removed]",
      "text/plain": [
       "<Figure size 720x360 with 1 Axes>"
      ]
     },
     "metadata": {
      "needs_background": "light"
     },
     "output_type": "display_data"
    }
   ],
   "source": [
    "days = range(starting_day_for_0,500)\n",
    "\n",
    "ret = odeint(deriv,\n",
    "             [Susceptible_City[starting_day_for_0], Infected_City[starting_day_for_0], Recovered_City[starting_day_for_0]],\n",
    "             days,\n",
    "             args=(total_pop, 3.381606e-07, 0.035610))\n",
    "print(ret.shape)\n",
    "S, I, R = ret.T\n",
    "dfpresent = pd.DataFrame()\n",
    "# Build a dataframe because why not\n",
    "dfpresent1 = pd.DataFrame()\n",
    "#days = days + 40\n",
    "dfpresent1 = pd.DataFrame({\n",
    "    'suseptible': S,\n",
    "    'infected': I,\n",
    "    'recovered': R,\n",
    "    'day': days\n",
    "})\n",
    "\n",
    "f, (ax1) = plt.subplots(1,figsize=(10,5))\n",
    "plt.rcParams[\"figure.figsize\"] = [12,5]\n",
    "dfpresent1.plot(x='day',\n",
    "        y=['infected', 'suseptible', 'recovered'],\n",
    "        color=['#bb6424', '#aac6ca', '#cc8ac0'],\n",
    "        kind='area',ax =ax1,\n",
    "        stacked=False)\n",
    "\n",
    "\n",
    "ax1.plot(pd.DataFrame(Infected_act_city),'r', alpha=1.0, lw=2, label='Infected')\n",
    "ax1.plot(pd.DataFrame(Recovered_act_city),'b',alpha=1.0, lw=2, label='Recovered')\n",
    "ax1.set_title('Hyderabad-3%',fontsize=20)\n",
    "plt.show()"
   ]
  },
  {
   "cell_type": "code",
   "execution_count": 42,
   "metadata": {},
   "outputs": [
    {
     "data": {
      "text/plain": [
       "84356.53555484099"
      ]
     },
     "execution_count": 42,
     "metadata": {},
     "output_type": "execute_result"
    }
   ],
   "source": [
    "dfpresent1['infected'].max()"
   ]
  },
  {
   "cell_type": "code",
   "execution_count": 43,
   "metadata": {},
   "outputs": [
    {
     "data": {
      "text/html": [
       "<div>\n",
       "<style scoped>\n",
       "    .dataframe tbody tr th:only-of-type {\n",
       "        vertical-align: middle;\n",
       "    }\n",
       "\n",
       "    .dataframe tbody tr th {\n",
       "        vertical-align: top;\n",
       "    }\n",
       "\n",
       "    .dataframe thead th {\n",
       "        text-align: right;\n",
       "    }\n",
       "</style>\n",
       "<table border=\"1\" class=\"dataframe\">\n",
       "  <thead>\n",
       "    <tr style=\"text-align: right;\">\n",
       "      <th></th>\n",
       "      <th>suseptible</th>\n",
       "      <th>infected</th>\n",
       "      <th>recovered</th>\n",
       "      <th>day</th>\n",
       "    </tr>\n",
       "  </thead>\n",
       "  <tbody>\n",
       "    <tr>\n",
       "      <th>89</th>\n",
       "      <td>104449.272162</td>\n",
       "      <td>84356.535555</td>\n",
       "      <td>111194.192283</td>\n",
       "      <td>164</td>\n",
       "    </tr>\n",
       "  </tbody>\n",
       "</table>\n",
       "</div>"
      ],
      "text/plain": [
       "       suseptible      infected      recovered  day\n",
       "89  104449.272162  84356.535555  111194.192283  164"
      ]
     },
     "execution_count": 43,
     "metadata": {},
     "output_type": "execute_result"
    }
   ],
   "source": [
    "dfpresent1.loc[dfpresent1['infected'] == dfpresent1.max()['infected']]"
   ]
  },
  {
   "cell_type": "code",
   "execution_count": 44,
   "metadata": {},
   "outputs": [
    {
     "data": {
      "text/html": [
       "<div>\n",
       "<style scoped>\n",
       "    .dataframe tbody tr th:only-of-type {\n",
       "        vertical-align: middle;\n",
       "    }\n",
       "\n",
       "    .dataframe tbody tr th {\n",
       "        vertical-align: top;\n",
       "    }\n",
       "\n",
       "    .dataframe thead th {\n",
       "        text-align: right;\n",
       "    }\n",
       "</style>\n",
       "<table border=\"1\" class=\"dataframe\">\n",
       "  <thead>\n",
       "    <tr style=\"text-align: right;\">\n",
       "      <th></th>\n",
       "      <th>suseptible</th>\n",
       "      <th>infected</th>\n",
       "      <th>recovered</th>\n",
       "      <th>day</th>\n",
       "    </tr>\n",
       "  </thead>\n",
       "  <tbody>\n",
       "    <tr>\n",
       "      <th>424</th>\n",
       "      <td>21285.369438</td>\n",
       "      <td>13.724532</td>\n",
       "      <td>278700.90603</td>\n",
       "      <td>499</td>\n",
       "    </tr>\n",
       "  </tbody>\n",
       "</table>\n",
       "</div>"
      ],
      "text/plain": [
       "       suseptible   infected     recovered  day\n",
       "424  21285.369438  13.724532  278700.90603  499"
      ]
     },
     "execution_count": 44,
     "metadata": {},
     "output_type": "execute_result"
    }
   ],
   "source": [
    "dfpresent1.loc[dfpresent1['recovered'] == dfpresent1.max()['recovered']]"
   ]
  },
  {
   "cell_type": "code",
   "execution_count": 45,
   "metadata": {},
   "outputs": [],
   "source": [
    "#dfpresent1.loc[dfpresent1['infected'] == dfpresent1.min()['infected']]"
   ]
  },
  {
   "cell_type": "code",
   "execution_count": 46,
   "metadata": {},
   "outputs": [
    {
     "data": {
      "text/html": [
       "<div>\n",
       "<style scoped>\n",
       "    .dataframe tbody tr th:only-of-type {\n",
       "        vertical-align: middle;\n",
       "    }\n",
       "\n",
       "    .dataframe tbody tr th {\n",
       "        vertical-align: top;\n",
       "    }\n",
       "\n",
       "    .dataframe thead th {\n",
       "        text-align: right;\n",
       "    }\n",
       "</style>\n",
       "<table border=\"1\" class=\"dataframe\">\n",
       "  <thead>\n",
       "    <tr style=\"text-align: right;\">\n",
       "      <th></th>\n",
       "      <th>suseptible</th>\n",
       "      <th>infected</th>\n",
       "      <th>recovered</th>\n",
       "      <th>day</th>\n",
       "    </tr>\n",
       "  </thead>\n",
       "  <tbody>\n",
       "    <tr>\n",
       "      <th>25</th>\n",
       "      <td>286920.676444</td>\n",
       "      <td>8296.277447</td>\n",
       "      <td>4783.04611</td>\n",
       "      <td>100</td>\n",
       "    </tr>\n",
       "  </tbody>\n",
       "</table>\n",
       "</div>"
      ],
      "text/plain": [
       "       suseptible     infected   recovered  day\n",
       "25  286920.676444  8296.277447  4783.04611  100"
      ]
     },
     "execution_count": 46,
     "metadata": {},
     "output_type": "execute_result"
    }
   ],
   "source": [
    "dfpresent1.loc[dfpresent1['day'] == 100]"
   ]
  },
  {
   "cell_type": "code",
   "execution_count": 47,
   "metadata": {},
   "outputs": [
    {
     "data": {
      "text/html": [
       "<div>\n",
       "<style scoped>\n",
       "    .dataframe tbody tr th:only-of-type {\n",
       "        vertical-align: middle;\n",
       "    }\n",
       "\n",
       "    .dataframe tbody tr th {\n",
       "        vertical-align: top;\n",
       "    }\n",
       "\n",
       "    .dataframe thead th {\n",
       "        text-align: right;\n",
       "    }\n",
       "</style>\n",
       "<table border=\"1\" class=\"dataframe\">\n",
       "  <thead>\n",
       "    <tr style=\"text-align: right;\">\n",
       "      <th></th>\n",
       "      <th>suseptible</th>\n",
       "      <th>infected</th>\n",
       "      <th>recovered</th>\n",
       "      <th>day</th>\n",
       "    </tr>\n",
       "  </thead>\n",
       "  <tbody>\n",
       "    <tr>\n",
       "      <th>125</th>\n",
       "      <td>43570.585541</td>\n",
       "      <td>53165.042924</td>\n",
       "      <td>203264.371535</td>\n",
       "      <td>200</td>\n",
       "    </tr>\n",
       "  </tbody>\n",
       "</table>\n",
       "</div>"
      ],
      "text/plain": [
       "       suseptible      infected      recovered  day\n",
       "125  43570.585541  53165.042924  203264.371535  200"
      ]
     },
     "execution_count": 47,
     "metadata": {},
     "output_type": "execute_result"
    }
   ],
   "source": [
    "dfpresent1.loc[dfpresent1['day'] == 200]"
   ]
  },
  {
   "cell_type": "code",
   "execution_count": 48,
   "metadata": {},
   "outputs": [
    {
     "data": {
      "text/html": [
       "<div>\n",
       "<style scoped>\n",
       "    .dataframe tbody tr th:only-of-type {\n",
       "        vertical-align: middle;\n",
       "    }\n",
       "\n",
       "    .dataframe tbody tr th {\n",
       "        vertical-align: top;\n",
       "    }\n",
       "\n",
       "    .dataframe thead th {\n",
       "        text-align: right;\n",
       "    }\n",
       "</style>\n",
       "<table border=\"1\" class=\"dataframe\">\n",
       "  <thead>\n",
       "    <tr style=\"text-align: right;\">\n",
       "      <th></th>\n",
       "      <th>suseptible</th>\n",
       "      <th>infected</th>\n",
       "      <th>recovered</th>\n",
       "      <th>day</th>\n",
       "    </tr>\n",
       "  </thead>\n",
       "  <tbody>\n",
       "    <tr>\n",
       "      <th>225</th>\n",
       "      <td>22291.759373</td>\n",
       "      <td>3872.121886</td>\n",
       "      <td>273836.118741</td>\n",
       "      <td>300</td>\n",
       "    </tr>\n",
       "  </tbody>\n",
       "</table>\n",
       "</div>"
      ],
      "text/plain": [
       "       suseptible     infected      recovered  day\n",
       "225  22291.759373  3872.121886  273836.118741  300"
      ]
     },
     "execution_count": 48,
     "metadata": {},
     "output_type": "execute_result"
    }
   ],
   "source": [
    "dfpresent1.loc[dfpresent1['day'] == 300]"
   ]
  },
  {
   "cell_type": "code",
   "execution_count": 49,
   "metadata": {},
   "outputs": [
    {
     "data": {
      "text/plain": [
       "datetime.datetime(2020, 8, 25, 0, 0)"
      ]
     },
     "execution_count": 49,
     "metadata": {},
     "output_type": "execute_result"
    }
   ],
   "source": [
    "import datetime\n",
    "StartDate = datetime.datetime.strptime(\"20200314\", \"%Y%m%d\")\n",
    "StartDate + datetime.timedelta(days=np.int(dfpresent1.sort_values('infected', ascending=False).head(1)['day']))"
   ]
  },
  {
   "cell_type": "code",
   "execution_count": 50,
   "metadata": {},
   "outputs": [],
   "source": [
    "data_test_all = pd.read_csv('Covid_Data_17.Jul.2020.csv')"
   ]
  },
  {
   "cell_type": "code",
   "execution_count": 51,
   "metadata": {},
   "outputs": [],
   "source": [
    "data_test_tn = data_test_all.pivot_table(values='TG', index='Date', columns='Status', aggfunc='sum').reset_index()\n",
    "data_test_tn['Date'] = pd.to_datetime(data_test_tn['Date'], errors='coerce')\n",
    "data_test_tn = (data_test_tn.sort_values('Date').reset_index()).drop('index', axis=1)\n",
    "data_test_tn['Removed'] = data_test_tn['Deceased'] + data_test_tn['Recovered']\n",
    "data_test_tn.drop(['Deceased', 'Recovered'], axis=1, inplace=True)\n",
    "data_test_tn['Infected_Active'] = 0\n",
    "data_test_tn['Recovered_Active'] = 0\n",
    "counter = 0\n",
    "while counter < len(data_test_tn['Removed']):\n",
    "    data_test_tn.loc[counter, 'Infected_Active'] = data_test_tn.loc[0:counter, 'Confirmed'].sum()*population_affected_in_city\n",
    "    data_test_tn.loc[counter, 'Recovered_Active'] = data_test_tn.loc[0:counter, 'Removed'].sum()*population_affected_in_city\n",
    "    counter = counter + 1\n",
    "data_test_tn.drop(['Confirmed', 'Removed'], axis=1, inplace=True)"
   ]
  },
  {
   "cell_type": "code",
   "execution_count": 58,
   "metadata": {},
   "outputs": [
    {
     "data": {
      "text/html": [
       "<div>\n",
       "<style scoped>\n",
       "    .dataframe tbody tr th:only-of-type {\n",
       "        vertical-align: middle;\n",
       "    }\n",
       "\n",
       "    .dataframe tbody tr th {\n",
       "        vertical-align: top;\n",
       "    }\n",
       "\n",
       "    .dataframe thead th {\n",
       "        text-align: right;\n",
       "    }\n",
       "</style>\n",
       "<table border=\"1\" class=\"dataframe\">\n",
       "  <thead>\n",
       "    <tr style=\"text-align: right;\">\n",
       "      <th>Status</th>\n",
       "      <th>Date</th>\n",
       "      <th>Infected_Active</th>\n",
       "      <th>Recovered_Active</th>\n",
       "    </tr>\n",
       "  </thead>\n",
       "  <tbody>\n",
       "    <tr>\n",
       "      <th>120</th>\n",
       "      <td>2020-07-12</td>\n",
       "      <td>26003.25</td>\n",
       "      <td>17128.50</td>\n",
       "    </tr>\n",
       "    <tr>\n",
       "      <th>121</th>\n",
       "      <td>2020-07-13</td>\n",
       "      <td>27165.75</td>\n",
       "      <td>18033.00</td>\n",
       "    </tr>\n",
       "    <tr>\n",
       "      <th>122</th>\n",
       "      <td>2020-07-14</td>\n",
       "      <td>28308.75</td>\n",
       "      <td>18911.25</td>\n",
       "    </tr>\n",
       "    <tr>\n",
       "      <th>123</th>\n",
       "      <td>2020-07-15</td>\n",
       "      <td>29506.50</td>\n",
       "      <td>19788.75</td>\n",
       "    </tr>\n",
       "    <tr>\n",
       "      <th>124</th>\n",
       "      <td>2020-07-16</td>\n",
       "      <td>30763.50</td>\n",
       "      <td>20768.25</td>\n",
       "    </tr>\n",
       "    <tr>\n",
       "      <th>125</th>\n",
       "      <td>2020-07-17</td>\n",
       "      <td>31872.00</td>\n",
       "      <td>21831.00</td>\n",
       "    </tr>\n",
       "  </tbody>\n",
       "</table>\n",
       "</div>"
      ],
      "text/plain": [
       "Status       Date  Infected_Active  Recovered_Active\n",
       "120    2020-07-12  26003.25         17128.50        \n",
       "121    2020-07-13  27165.75         18033.00        \n",
       "122    2020-07-14  28308.75         18911.25        \n",
       "123    2020-07-15  29506.50         19788.75        \n",
       "124    2020-07-16  30763.50         20768.25        \n",
       "125    2020-07-17  31872.00         21831.00        "
      ]
     },
     "execution_count": 58,
     "metadata": {},
     "output_type": "execute_result"
    }
   ],
   "source": [
    "newactuals = data_test_tn[len(Infected_City):len(data_test_tn)]\n",
    "newactuals"
   ]
  },
  {
   "cell_type": "code",
   "execution_count": 59,
   "metadata": {},
   "outputs": [
    {
     "data": {
      "text/html": [
       "<div>\n",
       "<style scoped>\n",
       "    .dataframe tbody tr th:only-of-type {\n",
       "        vertical-align: middle;\n",
       "    }\n",
       "\n",
       "    .dataframe tbody tr th {\n",
       "        vertical-align: top;\n",
       "    }\n",
       "\n",
       "    .dataframe thead th {\n",
       "        text-align: right;\n",
       "    }\n",
       "</style>\n",
       "<table border=\"1\" class=\"dataframe\">\n",
       "  <thead>\n",
       "    <tr style=\"text-align: right;\">\n",
       "      <th></th>\n",
       "      <th>suseptible</th>\n",
       "      <th>infected</th>\n",
       "      <th>recovered</th>\n",
       "      <th>day</th>\n",
       "    </tr>\n",
       "  </thead>\n",
       "  <tbody>\n",
       "    <tr>\n",
       "      <th>45</th>\n",
       "      <td>257855.797519</td>\n",
       "      <td>26114.026830</td>\n",
       "      <td>16030.175651</td>\n",
       "      <td>120</td>\n",
       "    </tr>\n",
       "    <tr>\n",
       "      <th>46</th>\n",
       "      <td>255529.846265</td>\n",
       "      <td>27485.779386</td>\n",
       "      <td>16984.374349</td>\n",
       "      <td>121</td>\n",
       "    </tr>\n",
       "    <tr>\n",
       "      <th>47</th>\n",
       "      <td>253105.344335</td>\n",
       "      <td>28906.363041</td>\n",
       "      <td>17988.292624</td>\n",
       "      <td>122</td>\n",
       "    </tr>\n",
       "    <tr>\n",
       "      <th>48</th>\n",
       "      <td>250581.400409</td>\n",
       "      <td>30374.944181</td>\n",
       "      <td>19043.655410</td>\n",
       "      <td>123</td>\n",
       "    </tr>\n",
       "    <tr>\n",
       "      <th>49</th>\n",
       "      <td>247957.480625</td>\n",
       "      <td>31890.367044</td>\n",
       "      <td>20152.152332</td>\n",
       "      <td>124</td>\n",
       "    </tr>\n",
       "    <tr>\n",
       "      <th>50</th>\n",
       "      <td>245233.440491</td>\n",
       "      <td>33451.133753</td>\n",
       "      <td>21315.425756</td>\n",
       "      <td>125</td>\n",
       "    </tr>\n",
       "  </tbody>\n",
       "</table>\n",
       "</div>"
      ],
      "text/plain": [
       "       suseptible      infected     recovered  day\n",
       "45  257855.797519  26114.026830  16030.175651  120\n",
       "46  255529.846265  27485.779386  16984.374349  121\n",
       "47  253105.344335  28906.363041  17988.292624  122\n",
       "48  250581.400409  30374.944181  19043.655410  123\n",
       "49  247957.480625  31890.367044  20152.152332  124\n",
       "50  245233.440491  33451.133753  21315.425756  125"
      ]
     },
     "execution_count": 59,
     "metadata": {},
     "output_type": "execute_result"
    }
   ],
   "source": [
    "newpred = dfpresent1[(dfpresent1['day']>=len(Infected_City)) & (dfpresent1['day']<len(data_test_tn))]\n",
    "newpred"
   ]
  },
  {
   "cell_type": "code",
   "execution_count": 61,
   "metadata": {},
   "outputs": [
    {
     "data": {
      "image/png": "[encoded data removed]",
      "text/plain": [
       "<Figure size 864x360 with 1 Axes>"
      ]
     },
     "metadata": {
      "needs_background": "light"
     },
     "output_type": "display_data"
    }
   ],
   "source": [
    "f, (ax1) = plt.subplots(1,figsize=(12,5))\n",
    "plt.rcParams[\"figure.figsize\"] = [10,5]\n",
    "newpred.plot(x='day',\n",
    "        y=['infected', 'suseptible', 'recovered'],\n",
    "        color=['#bb6424', '#aac6ca', '#cc8ac0'],\n",
    "        kind='area',ax =ax1,\n",
    "        stacked=False)\n",
    "\n",
    "\n",
    "ax1.plot(pd.DataFrame(newactuals['Infected_Active']),'r', alpha=1.0, lw=1, label='Infected')\n",
    "ax1.plot(pd.DataFrame(newactuals['Recovered_Active']),'b',alpha=1.0, lw=1, label='Recovered')\n",
    "ax1.set_title('Hyderabad-3%',fontsize=20)\n",
    "plt.show()"
   ]
  },
  {
   "cell_type": "code",
   "execution_count": null,
   "metadata": {},
   "outputs": [],
   "source": []
  }
 ],
 "metadata": {
  "kernelspec": {
   "display_name": "Python 3",
   "language": "python",
   "name": "python3"
  },
  "language_info": {
   "codemirror_mode": {
    "name": "ipython",
    "version": 3
   },
   "file_extension": ".py",
   "mimetype": "text/x-python",
   "name": "python",
   "nbconvert_exporter": "python",
   "pygments_lexer": "ipython3",
   "version": "3.7.6"
  }
 },
 "nbformat": 4,
 "nbformat_minor": 4
}
